{
 "cells": [
  {
   "cell_type": "markdown",
   "id": "82aab4f4",
   "metadata": {},
   "source": [
    "# Artificial Neural Net Classification - TensorFlow Keras"
   ]
  },
  {
   "cell_type": "markdown",
   "id": "6d519201",
   "metadata": {},
   "source": [
    "### The Data"
   ]
  },
  {
   "cell_type": "markdown",
   "id": "18bd7725",
   "metadata": {},
   "source": [
    "The data is taken from the LendingCLub dataset found on Kaggle. LendingClub is a US peer-to-peer lending company, headquartered in San Francisco, California. It was the first peer-to-peer lender to register its offerings as securities with the Securities and Exchange Commission (SEC), and to offer loan trading on a secondary market. LendingClub is the world's largest peer-to-peer lending platform. The dataset includes histrocial data on loans given out with information on the borrowers accounts and details of the loans themselves."
   ]
  },
  {
   "cell_type": "markdown",
   "id": "7d44c0c1",
   "metadata": {},
   "source": [
    "### Task"
   ]
  },
  {
   "cell_type": "markdown",
   "id": "273385d9",
   "metadata": {},
   "source": [
    "In this project exploratory data analysis will be conducted on the dataset and will be preprocessed so that an artificial neural net can be built to classifiy whether loan borrowers defaulted on their loans or not. The ANN will be constructed using TensforFlow Keras library in Python. The model will then be evaluated in terms of its accuracy"
   ]
  },
  {
   "cell_type": "markdown",
   "id": "3f74aa1f",
   "metadata": {},
   "source": [
    "### Workflow"
   ]
  },
  {
   "cell_type": "markdown",
   "id": "dc5cb5c3",
   "metadata": {},
   "source": [
    "- Loading and importing datasets\n",
    "- Exploratory data analysis using seaborn visualisation library\n",
    "- Preprocessing the data, addressing missing data and categorical variables\n",
    "- Scaling the data and conducting a train test split\n",
    "- Building the artificial neural net model\n",
    "- Evaluate model performance"
   ]
  },
  {
   "cell_type": "markdown",
   "id": "e37244ff",
   "metadata": {},
   "source": [
    "### Import neccessary libraries"
   ]
  },
  {
   "cell_type": "code",
   "execution_count": 76,
   "id": "b7d23292",
   "metadata": {},
   "outputs": [],
   "source": [
    "# import neccessary libraries\n",
    "import numpy as np\n",
    "import pandas as pd\n",
    "import matplotlib.pyplot as plt\n",
    "import seaborn as sns\n",
    "from sklearn.model_selection import train_test_split\n",
    "from sklearn.preprocessing import StandardScaler\n",
    "import pickle\n",
    "import tensorflow as tf\n",
    "from tensorflow.keras.models import Sequential\n",
    "from tensorflow.keras.layers import Dense, Dropout\n",
    "from tensorflow.keras.callbacks import EarlyStopping\n",
    "from tensorflow.keras.optimizers import Adam\n",
    "from tensorflow.keras.models import load_model\n",
    "from sklearn.metrics import classification_report, confusion_matrix\n",
    "import random"
   ]
  },
  {
   "cell_type": "markdown",
   "id": "37b0388c",
   "metadata": {},
   "source": [
    "## Section 1: Loading and Importing Datasets"
   ]
  },
  {
   "cell_type": "markdown",
   "id": "602e1ae4",
   "metadata": {},
   "source": [
    "- Import separate dataset that consist of descriptions of the features in the main dataset\n",
    "- Make a function that returns the description of an input feature\n",
    "- Import the lendingclub dataset\n",
    "- Inspect the lendingclub dataset"
   ]
  },
  {
   "cell_type": "code",
   "execution_count": 77,
   "id": "5ef82e79",
   "metadata": {},
   "outputs": [],
   "source": [
    "# import the feature information dataframe\n",
    "feat_df = pd.read_csv('lending_club_info.csv')"
   ]
  },
  {
   "cell_type": "code",
   "execution_count": 78,
   "id": "d9f46839",
   "metadata": {},
   "outputs": [
    {
     "name": "stdout",
     "output_type": "stream",
     "text": [
      "['loan_amnt' 'term' 'int_rate' 'installment' 'grade' 'sub_grade'\n",
      " 'emp_title' 'emp_length' 'home_ownership' 'annual_inc'\n",
      " 'verification_status' 'issue_d' 'loan_status' 'purpose' 'title'\n",
      " 'zip_code' 'addr_state' 'dti' 'earliest_cr_line' 'open_acc' 'pub_rec'\n",
      " 'revol_bal' 'revol_util' 'total_acc' 'initial_list_status'\n",
      " 'application_type' 'mort_acc' 'pub_rec_bankruptcies']\n"
     ]
    },
    {
     "data": {
      "text/html": [
       "<div>\n",
       "<style scoped>\n",
       "    .dataframe tbody tr th:only-of-type {\n",
       "        vertical-align: middle;\n",
       "    }\n",
       "\n",
       "    .dataframe tbody tr th {\n",
       "        vertical-align: top;\n",
       "    }\n",
       "\n",
       "    .dataframe thead th {\n",
       "        text-align: right;\n",
       "    }\n",
       "</style>\n",
       "<table border=\"1\" class=\"dataframe\">\n",
       "  <thead>\n",
       "    <tr style=\"text-align: right;\">\n",
       "      <th></th>\n",
       "      <th>LoanStatNew</th>\n",
       "      <th>Description</th>\n",
       "    </tr>\n",
       "  </thead>\n",
       "  <tbody>\n",
       "    <tr>\n",
       "      <th>0</th>\n",
       "      <td>loan_amnt</td>\n",
       "      <td>The listed amount of the loan applied for by t...</td>\n",
       "    </tr>\n",
       "    <tr>\n",
       "      <th>1</th>\n",
       "      <td>term</td>\n",
       "      <td>The number of payments on the loan. Values are...</td>\n",
       "    </tr>\n",
       "    <tr>\n",
       "      <th>2</th>\n",
       "      <td>int_rate</td>\n",
       "      <td>Interest Rate on the loan</td>\n",
       "    </tr>\n",
       "    <tr>\n",
       "      <th>3</th>\n",
       "      <td>installment</td>\n",
       "      <td>The monthly payment owed by the borrower if th...</td>\n",
       "    </tr>\n",
       "    <tr>\n",
       "      <th>4</th>\n",
       "      <td>grade</td>\n",
       "      <td>LC assigned loan grade</td>\n",
       "    </tr>\n",
       "  </tbody>\n",
       "</table>\n",
       "</div>"
      ],
      "text/plain": [
       "   LoanStatNew                                        Description\n",
       "0    loan_amnt  The listed amount of the loan applied for by t...\n",
       "1         term  The number of payments on the loan. Values are...\n",
       "2     int_rate                          Interest Rate on the loan\n",
       "3  installment  The monthly payment owed by the borrower if th...\n",
       "4        grade                             LC assigned loan grade"
      ]
     },
     "execution_count": 78,
     "metadata": {},
     "output_type": "execute_result"
    }
   ],
   "source": [
    "# inspect the feature dataframe\n",
    "print(feat_df['LoanStatNew'].unique())\n",
    "feat_df.head()"
   ]
  },
  {
   "cell_type": "code",
   "execution_count": 79,
   "id": "0dea1398",
   "metadata": {},
   "outputs": [],
   "source": [
    "# make a function we can call the will return the description of the input feature\n",
    "def feat_info(feature):\n",
    "    return feat_df.loc[feat_df.index[feat_df['LoanStatNew']==feature].to_list()[0]]['Description']"
   ]
  },
  {
   "cell_type": "code",
   "execution_count": 80,
   "id": "dac1ab94",
   "metadata": {},
   "outputs": [
    {
     "data": {
      "text/plain": [
       "'Total credit revolving balance'"
      ]
     },
     "execution_count": 80,
     "metadata": {},
     "output_type": "execute_result"
    }
   ],
   "source": [
    "# test the function\n",
    "feat_info('revol_bal')"
   ]
  },
  {
   "cell_type": "code",
   "execution_count": 81,
   "id": "0828192a",
   "metadata": {},
   "outputs": [],
   "source": [
    "# import the lendind club dataset\n",
    "df = pd.read_csv('lending_club_loan.csv')"
   ]
  },
  {
   "cell_type": "code",
   "execution_count": 82,
   "id": "3e84c666",
   "metadata": {},
   "outputs": [
    {
     "data": {
      "text/html": [
       "<div>\n",
       "<style scoped>\n",
       "    .dataframe tbody tr th:only-of-type {\n",
       "        vertical-align: middle;\n",
       "    }\n",
       "\n",
       "    .dataframe tbody tr th {\n",
       "        vertical-align: top;\n",
       "    }\n",
       "\n",
       "    .dataframe thead th {\n",
       "        text-align: right;\n",
       "    }\n",
       "</style>\n",
       "<table border=\"1\" class=\"dataframe\">\n",
       "  <thead>\n",
       "    <tr style=\"text-align: right;\">\n",
       "      <th></th>\n",
       "      <th>loan_amnt</th>\n",
       "      <th>term</th>\n",
       "      <th>int_rate</th>\n",
       "      <th>installment</th>\n",
       "      <th>grade</th>\n",
       "      <th>sub_grade</th>\n",
       "      <th>emp_title</th>\n",
       "      <th>emp_length</th>\n",
       "      <th>home_ownership</th>\n",
       "      <th>annual_inc</th>\n",
       "      <th>...</th>\n",
       "      <th>open_acc</th>\n",
       "      <th>pub_rec</th>\n",
       "      <th>revol_bal</th>\n",
       "      <th>revol_util</th>\n",
       "      <th>total_acc</th>\n",
       "      <th>initial_list_status</th>\n",
       "      <th>application_type</th>\n",
       "      <th>mort_acc</th>\n",
       "      <th>pub_rec_bankruptcies</th>\n",
       "      <th>address</th>\n",
       "    </tr>\n",
       "  </thead>\n",
       "  <tbody>\n",
       "    <tr>\n",
       "      <th>0</th>\n",
       "      <td>10000.0</td>\n",
       "      <td>36 months</td>\n",
       "      <td>11.44</td>\n",
       "      <td>329.48</td>\n",
       "      <td>B</td>\n",
       "      <td>B4</td>\n",
       "      <td>Marketing</td>\n",
       "      <td>10+ years</td>\n",
       "      <td>RENT</td>\n",
       "      <td>117000.0</td>\n",
       "      <td>...</td>\n",
       "      <td>16.0</td>\n",
       "      <td>0.0</td>\n",
       "      <td>36369.0</td>\n",
       "      <td>41.8</td>\n",
       "      <td>25.0</td>\n",
       "      <td>w</td>\n",
       "      <td>INDIVIDUAL</td>\n",
       "      <td>0.0</td>\n",
       "      <td>0.0</td>\n",
       "      <td>0174 Michelle Gateway\\nMendozaberg, OK 22690</td>\n",
       "    </tr>\n",
       "    <tr>\n",
       "      <th>1</th>\n",
       "      <td>8000.0</td>\n",
       "      <td>36 months</td>\n",
       "      <td>11.99</td>\n",
       "      <td>265.68</td>\n",
       "      <td>B</td>\n",
       "      <td>B5</td>\n",
       "      <td>Credit analyst</td>\n",
       "      <td>4 years</td>\n",
       "      <td>MORTGAGE</td>\n",
       "      <td>65000.0</td>\n",
       "      <td>...</td>\n",
       "      <td>17.0</td>\n",
       "      <td>0.0</td>\n",
       "      <td>20131.0</td>\n",
       "      <td>53.3</td>\n",
       "      <td>27.0</td>\n",
       "      <td>f</td>\n",
       "      <td>INDIVIDUAL</td>\n",
       "      <td>3.0</td>\n",
       "      <td>0.0</td>\n",
       "      <td>1076 Carney Fort Apt. 347\\nLoganmouth, SD 05113</td>\n",
       "    </tr>\n",
       "    <tr>\n",
       "      <th>2</th>\n",
       "      <td>15600.0</td>\n",
       "      <td>36 months</td>\n",
       "      <td>10.49</td>\n",
       "      <td>506.97</td>\n",
       "      <td>B</td>\n",
       "      <td>B3</td>\n",
       "      <td>Statistician</td>\n",
       "      <td>&lt; 1 year</td>\n",
       "      <td>RENT</td>\n",
       "      <td>43057.0</td>\n",
       "      <td>...</td>\n",
       "      <td>13.0</td>\n",
       "      <td>0.0</td>\n",
       "      <td>11987.0</td>\n",
       "      <td>92.2</td>\n",
       "      <td>26.0</td>\n",
       "      <td>f</td>\n",
       "      <td>INDIVIDUAL</td>\n",
       "      <td>0.0</td>\n",
       "      <td>0.0</td>\n",
       "      <td>87025 Mark Dale Apt. 269\\nNew Sabrina, WV 05113</td>\n",
       "    </tr>\n",
       "    <tr>\n",
       "      <th>3</th>\n",
       "      <td>7200.0</td>\n",
       "      <td>36 months</td>\n",
       "      <td>6.49</td>\n",
       "      <td>220.65</td>\n",
       "      <td>A</td>\n",
       "      <td>A2</td>\n",
       "      <td>Client Advocate</td>\n",
       "      <td>6 years</td>\n",
       "      <td>RENT</td>\n",
       "      <td>54000.0</td>\n",
       "      <td>...</td>\n",
       "      <td>6.0</td>\n",
       "      <td>0.0</td>\n",
       "      <td>5472.0</td>\n",
       "      <td>21.5</td>\n",
       "      <td>13.0</td>\n",
       "      <td>f</td>\n",
       "      <td>INDIVIDUAL</td>\n",
       "      <td>0.0</td>\n",
       "      <td>0.0</td>\n",
       "      <td>823 Reid Ford\\nDelacruzside, MA 00813</td>\n",
       "    </tr>\n",
       "    <tr>\n",
       "      <th>4</th>\n",
       "      <td>24375.0</td>\n",
       "      <td>60 months</td>\n",
       "      <td>17.27</td>\n",
       "      <td>609.33</td>\n",
       "      <td>C</td>\n",
       "      <td>C5</td>\n",
       "      <td>Destiny Management Inc.</td>\n",
       "      <td>9 years</td>\n",
       "      <td>MORTGAGE</td>\n",
       "      <td>55000.0</td>\n",
       "      <td>...</td>\n",
       "      <td>13.0</td>\n",
       "      <td>0.0</td>\n",
       "      <td>24584.0</td>\n",
       "      <td>69.8</td>\n",
       "      <td>43.0</td>\n",
       "      <td>f</td>\n",
       "      <td>INDIVIDUAL</td>\n",
       "      <td>1.0</td>\n",
       "      <td>0.0</td>\n",
       "      <td>679 Luna Roads\\nGreggshire, VA 11650</td>\n",
       "    </tr>\n",
       "  </tbody>\n",
       "</table>\n",
       "<p>5 rows × 27 columns</p>\n",
       "</div>"
      ],
      "text/plain": [
       "   loan_amnt        term  int_rate  installment grade sub_grade  \\\n",
       "0    10000.0   36 months     11.44       329.48     B        B4   \n",
       "1     8000.0   36 months     11.99       265.68     B        B5   \n",
       "2    15600.0   36 months     10.49       506.97     B        B3   \n",
       "3     7200.0   36 months      6.49       220.65     A        A2   \n",
       "4    24375.0   60 months     17.27       609.33     C        C5   \n",
       "\n",
       "                 emp_title emp_length home_ownership  annual_inc  ...  \\\n",
       "0                Marketing  10+ years           RENT    117000.0  ...   \n",
       "1          Credit analyst     4 years       MORTGAGE     65000.0  ...   \n",
       "2             Statistician   < 1 year           RENT     43057.0  ...   \n",
       "3          Client Advocate    6 years           RENT     54000.0  ...   \n",
       "4  Destiny Management Inc.    9 years       MORTGAGE     55000.0  ...   \n",
       "\n",
       "  open_acc pub_rec revol_bal revol_util total_acc  initial_list_status  \\\n",
       "0     16.0     0.0   36369.0       41.8      25.0                    w   \n",
       "1     17.0     0.0   20131.0       53.3      27.0                    f   \n",
       "2     13.0     0.0   11987.0       92.2      26.0                    f   \n",
       "3      6.0     0.0    5472.0       21.5      13.0                    f   \n",
       "4     13.0     0.0   24584.0       69.8      43.0                    f   \n",
       "\n",
       "  application_type  mort_acc  pub_rec_bankruptcies  \\\n",
       "0       INDIVIDUAL       0.0                   0.0   \n",
       "1       INDIVIDUAL       3.0                   0.0   \n",
       "2       INDIVIDUAL       0.0                   0.0   \n",
       "3       INDIVIDUAL       0.0                   0.0   \n",
       "4       INDIVIDUAL       1.0                   0.0   \n",
       "\n",
       "                                           address  \n",
       "0     0174 Michelle Gateway\\nMendozaberg, OK 22690  \n",
       "1  1076 Carney Fort Apt. 347\\nLoganmouth, SD 05113  \n",
       "2  87025 Mark Dale Apt. 269\\nNew Sabrina, WV 05113  \n",
       "3            823 Reid Ford\\nDelacruzside, MA 00813  \n",
       "4             679 Luna Roads\\nGreggshire, VA 11650  \n",
       "\n",
       "[5 rows x 27 columns]"
      ]
     },
     "execution_count": 82,
     "metadata": {},
     "output_type": "execute_result"
    }
   ],
   "source": [
    "# look at the head of the dataframe\n",
    "df.head()"
   ]
  },
  {
   "cell_type": "code",
   "execution_count": 83,
   "id": "f080be66",
   "metadata": {},
   "outputs": [
    {
     "name": "stdout",
     "output_type": "stream",
     "text": [
      "<class 'pandas.core.frame.DataFrame'>\n",
      "RangeIndex: 396030 entries, 0 to 396029\n",
      "Data columns (total 27 columns):\n",
      " #   Column                Non-Null Count   Dtype  \n",
      "---  ------                --------------   -----  \n",
      " 0   loan_amnt             396030 non-null  float64\n",
      " 1   term                  396030 non-null  object \n",
      " 2   int_rate              396030 non-null  float64\n",
      " 3   installment           396030 non-null  float64\n",
      " 4   grade                 396030 non-null  object \n",
      " 5   sub_grade             396030 non-null  object \n",
      " 6   emp_title             373103 non-null  object \n",
      " 7   emp_length            377729 non-null  object \n",
      " 8   home_ownership        396030 non-null  object \n",
      " 9   annual_inc            396030 non-null  float64\n",
      " 10  verification_status   396030 non-null  object \n",
      " 11  issue_d               396030 non-null  object \n",
      " 12  loan_status           396030 non-null  object \n",
      " 13  purpose               396030 non-null  object \n",
      " 14  title                 394275 non-null  object \n",
      " 15  dti                   396030 non-null  float64\n",
      " 16  earliest_cr_line      396030 non-null  object \n",
      " 17  open_acc              396030 non-null  float64\n",
      " 18  pub_rec               396030 non-null  float64\n",
      " 19  revol_bal             396030 non-null  float64\n",
      " 20  revol_util            395754 non-null  float64\n",
      " 21  total_acc             396030 non-null  float64\n",
      " 22  initial_list_status   396030 non-null  object \n",
      " 23  application_type      396030 non-null  object \n",
      " 24  mort_acc              358235 non-null  float64\n",
      " 25  pub_rec_bankruptcies  395495 non-null  float64\n",
      " 26  address               396030 non-null  object \n",
      "dtypes: float64(12), object(15)\n",
      "memory usage: 81.6+ MB\n"
     ]
    }
   ],
   "source": [
    "# look at the info of the dataframe\n",
    "df.info()"
   ]
  },
  {
   "cell_type": "code",
   "execution_count": 84,
   "id": "361662fb",
   "metadata": {},
   "outputs": [
    {
     "data": {
      "text/html": [
       "<div>\n",
       "<style scoped>\n",
       "    .dataframe tbody tr th:only-of-type {\n",
       "        vertical-align: middle;\n",
       "    }\n",
       "\n",
       "    .dataframe tbody tr th {\n",
       "        vertical-align: top;\n",
       "    }\n",
       "\n",
       "    .dataframe thead th {\n",
       "        text-align: right;\n",
       "    }\n",
       "</style>\n",
       "<table border=\"1\" class=\"dataframe\">\n",
       "  <thead>\n",
       "    <tr style=\"text-align: right;\">\n",
       "      <th></th>\n",
       "      <th>loan_amnt</th>\n",
       "      <th>int_rate</th>\n",
       "      <th>installment</th>\n",
       "      <th>annual_inc</th>\n",
       "      <th>dti</th>\n",
       "      <th>open_acc</th>\n",
       "      <th>pub_rec</th>\n",
       "      <th>revol_bal</th>\n",
       "      <th>revol_util</th>\n",
       "      <th>total_acc</th>\n",
       "      <th>mort_acc</th>\n",
       "      <th>pub_rec_bankruptcies</th>\n",
       "    </tr>\n",
       "  </thead>\n",
       "  <tbody>\n",
       "    <tr>\n",
       "      <th>count</th>\n",
       "      <td>396030.000000</td>\n",
       "      <td>396030.000000</td>\n",
       "      <td>396030.000000</td>\n",
       "      <td>3.960300e+05</td>\n",
       "      <td>396030.000000</td>\n",
       "      <td>396030.000000</td>\n",
       "      <td>396030.000000</td>\n",
       "      <td>3.960300e+05</td>\n",
       "      <td>395754.000000</td>\n",
       "      <td>396030.000000</td>\n",
       "      <td>358235.000000</td>\n",
       "      <td>395495.000000</td>\n",
       "    </tr>\n",
       "    <tr>\n",
       "      <th>mean</th>\n",
       "      <td>14113.888089</td>\n",
       "      <td>13.639400</td>\n",
       "      <td>431.849698</td>\n",
       "      <td>7.420318e+04</td>\n",
       "      <td>17.379514</td>\n",
       "      <td>11.311153</td>\n",
       "      <td>0.178191</td>\n",
       "      <td>1.584454e+04</td>\n",
       "      <td>53.791749</td>\n",
       "      <td>25.414744</td>\n",
       "      <td>1.813991</td>\n",
       "      <td>0.121648</td>\n",
       "    </tr>\n",
       "    <tr>\n",
       "      <th>std</th>\n",
       "      <td>8357.441341</td>\n",
       "      <td>4.472157</td>\n",
       "      <td>250.727790</td>\n",
       "      <td>6.163762e+04</td>\n",
       "      <td>18.019092</td>\n",
       "      <td>5.137649</td>\n",
       "      <td>0.530671</td>\n",
       "      <td>2.059184e+04</td>\n",
       "      <td>24.452193</td>\n",
       "      <td>11.886991</td>\n",
       "      <td>2.147930</td>\n",
       "      <td>0.356174</td>\n",
       "    </tr>\n",
       "    <tr>\n",
       "      <th>min</th>\n",
       "      <td>500.000000</td>\n",
       "      <td>5.320000</td>\n",
       "      <td>16.080000</td>\n",
       "      <td>0.000000e+00</td>\n",
       "      <td>0.000000</td>\n",
       "      <td>0.000000</td>\n",
       "      <td>0.000000</td>\n",
       "      <td>0.000000e+00</td>\n",
       "      <td>0.000000</td>\n",
       "      <td>2.000000</td>\n",
       "      <td>0.000000</td>\n",
       "      <td>0.000000</td>\n",
       "    </tr>\n",
       "    <tr>\n",
       "      <th>25%</th>\n",
       "      <td>8000.000000</td>\n",
       "      <td>10.490000</td>\n",
       "      <td>250.330000</td>\n",
       "      <td>4.500000e+04</td>\n",
       "      <td>11.280000</td>\n",
       "      <td>8.000000</td>\n",
       "      <td>0.000000</td>\n",
       "      <td>6.025000e+03</td>\n",
       "      <td>35.800000</td>\n",
       "      <td>17.000000</td>\n",
       "      <td>0.000000</td>\n",
       "      <td>0.000000</td>\n",
       "    </tr>\n",
       "    <tr>\n",
       "      <th>50%</th>\n",
       "      <td>12000.000000</td>\n",
       "      <td>13.330000</td>\n",
       "      <td>375.430000</td>\n",
       "      <td>6.400000e+04</td>\n",
       "      <td>16.910000</td>\n",
       "      <td>10.000000</td>\n",
       "      <td>0.000000</td>\n",
       "      <td>1.118100e+04</td>\n",
       "      <td>54.800000</td>\n",
       "      <td>24.000000</td>\n",
       "      <td>1.000000</td>\n",
       "      <td>0.000000</td>\n",
       "    </tr>\n",
       "    <tr>\n",
       "      <th>75%</th>\n",
       "      <td>20000.000000</td>\n",
       "      <td>16.490000</td>\n",
       "      <td>567.300000</td>\n",
       "      <td>9.000000e+04</td>\n",
       "      <td>22.980000</td>\n",
       "      <td>14.000000</td>\n",
       "      <td>0.000000</td>\n",
       "      <td>1.962000e+04</td>\n",
       "      <td>72.900000</td>\n",
       "      <td>32.000000</td>\n",
       "      <td>3.000000</td>\n",
       "      <td>0.000000</td>\n",
       "    </tr>\n",
       "    <tr>\n",
       "      <th>max</th>\n",
       "      <td>40000.000000</td>\n",
       "      <td>30.990000</td>\n",
       "      <td>1533.810000</td>\n",
       "      <td>8.706582e+06</td>\n",
       "      <td>9999.000000</td>\n",
       "      <td>90.000000</td>\n",
       "      <td>86.000000</td>\n",
       "      <td>1.743266e+06</td>\n",
       "      <td>892.300000</td>\n",
       "      <td>151.000000</td>\n",
       "      <td>34.000000</td>\n",
       "      <td>8.000000</td>\n",
       "    </tr>\n",
       "  </tbody>\n",
       "</table>\n",
       "</div>"
      ],
      "text/plain": [
       "           loan_amnt       int_rate    installment    annual_inc  \\\n",
       "count  396030.000000  396030.000000  396030.000000  3.960300e+05   \n",
       "mean    14113.888089      13.639400     431.849698  7.420318e+04   \n",
       "std      8357.441341       4.472157     250.727790  6.163762e+04   \n",
       "min       500.000000       5.320000      16.080000  0.000000e+00   \n",
       "25%      8000.000000      10.490000     250.330000  4.500000e+04   \n",
       "50%     12000.000000      13.330000     375.430000  6.400000e+04   \n",
       "75%     20000.000000      16.490000     567.300000  9.000000e+04   \n",
       "max     40000.000000      30.990000    1533.810000  8.706582e+06   \n",
       "\n",
       "                 dti       open_acc        pub_rec     revol_bal  \\\n",
       "count  396030.000000  396030.000000  396030.000000  3.960300e+05   \n",
       "mean       17.379514      11.311153       0.178191  1.584454e+04   \n",
       "std        18.019092       5.137649       0.530671  2.059184e+04   \n",
       "min         0.000000       0.000000       0.000000  0.000000e+00   \n",
       "25%        11.280000       8.000000       0.000000  6.025000e+03   \n",
       "50%        16.910000      10.000000       0.000000  1.118100e+04   \n",
       "75%        22.980000      14.000000       0.000000  1.962000e+04   \n",
       "max      9999.000000      90.000000      86.000000  1.743266e+06   \n",
       "\n",
       "          revol_util      total_acc       mort_acc  pub_rec_bankruptcies  \n",
       "count  395754.000000  396030.000000  358235.000000         395495.000000  \n",
       "mean       53.791749      25.414744       1.813991              0.121648  \n",
       "std        24.452193      11.886991       2.147930              0.356174  \n",
       "min         0.000000       2.000000       0.000000              0.000000  \n",
       "25%        35.800000      17.000000       0.000000              0.000000  \n",
       "50%        54.800000      24.000000       1.000000              0.000000  \n",
       "75%        72.900000      32.000000       3.000000              0.000000  \n",
       "max       892.300000     151.000000      34.000000              8.000000  "
      ]
     },
     "execution_count": 84,
     "metadata": {},
     "output_type": "execute_result"
    }
   ],
   "source": [
    "# look at the statistical metrics of the numerical columns of df\n",
    "df.describe()"
   ]
  },
  {
   "cell_type": "markdown",
   "id": "79204aae",
   "metadata": {},
   "source": [
    "## Section 2: Exploratory Data Analysis & Using Seaborn Visualisation Library"
   ]
  },
  {
   "cell_type": "markdown",
   "id": "0640fcea",
   "metadata": {},
   "source": [
    "- Understand which variables are important\n",
    "- View summary statistics\n",
    "- Visualise the data with seaborn library"
   ]
  },
  {
   "cell_type": "code",
   "execution_count": 85,
   "id": "78e2999e",
   "metadata": {},
   "outputs": [
    {
     "data": {
      "text/plain": [
       "<AxesSubplot:xlabel='loan_status', ylabel='count'>"
      ]
     },
     "execution_count": 85,
     "metadata": {},
     "output_type": "execute_result"
    },
    {
     "data": {
      "image/png": "[encoded data removed]",
      "text/plain": [
       "<Figure size 1080x432 with 1 Axes>"
      ]
     },
     "metadata": {
      "needs_background": "light"
     },
     "output_type": "display_data"
    }
   ],
   "source": [
    "# create a countplot of the target variable which is 'loan status'\n",
    "plt.figure(figsize=[15,6])\n",
    "sns.countplot(data=df, x='loan_status')"
   ]
  },
  {
   "cell_type": "markdown",
   "id": "67ee8ccd",
   "metadata": {},
   "source": [
    "There are a lot more instances of fully paid loans compared to charged off. When evaluating our model vw can expect to do well with accuracy metrics, however precision and recall will suffer due to the imbalance; hence, precision and recall will be the true metrics that we are going to evaluate our model on."
   ]
  },
  {
   "cell_type": "code",
   "execution_count": 86,
   "id": "ac5231a7",
   "metadata": {},
   "outputs": [
    {
     "data": {
      "text/plain": [
       "<AxesSubplot:xlabel='loan_amnt', ylabel='Count'>"
      ]
     },
     "execution_count": 86,
     "metadata": {},
     "output_type": "execute_result"
    },
    {
     "data": {
      "image/png": "[encoded data removed]",
      "text/plain": [
       "<Figure size 1080x432 with 1 Axes>"
      ]
     },
     "metadata": {
      "needs_background": "light"
     },
     "output_type": "display_data"
    }
   ],
   "source": [
    "# creating a histogram of the 'loan_amnt' column\n",
    "plt.figure(figsize=[15,6])\n",
    "sns.histplot(data=df, x='loan_amnt', bins=20)"
   ]
  },
  {
   "cell_type": "code",
   "execution_count": 87,
   "id": "24274ef0",
   "metadata": {},
   "outputs": [
    {
     "data": {
      "text/plain": [
       "<AxesSubplot:>"
      ]
     },
     "execution_count": 87,
     "metadata": {},
     "output_type": "execute_result"
    },
    {
     "data": {
      "image/png": "[encoded data removed]",
      "text/plain": [
       "<Figure size 1080x720 with 2 Axes>"
      ]
     },
     "metadata": {
      "needs_background": "light"
     },
     "output_type": "display_data"
    }
   ],
   "source": [
    "# explore the correlation between the continuous variables of df\n",
    "# visualise with a heatmap\n",
    "plt.figure(figsize=[15,10])\n",
    "sns.heatmap(df.corr(), annot=True, cmap='viridis')"
   ]
  },
  {
   "cell_type": "markdown",
   "id": "4ccd42b2",
   "metadata": {},
   "source": [
    "Note there is an almost perfect correlation between 'loan_amnt' and 'installment', this requires further inspection. \n",
    "\n",
    "We Must make sure there is not a single feature that predicts the label perfectly, this would be classed as data leaking and would indicate that it is not a feature and that it is duplicate information that is very similar to the label."
   ]
  },
  {
   "cell_type": "code",
   "execution_count": 88,
   "id": "87cf9687",
   "metadata": {},
   "outputs": [
    {
     "name": "stdout",
     "output_type": "stream",
     "text": [
      "Installment: The monthly payment owed by the borrower if the loan originates.\n",
      "\n",
      "\n",
      "Loan_Amnt: The listed amount of the loan applied for by the borrower. If at some point in time, the credit department reduces the loan amount, then it will be reflected in this value.\n"
     ]
    }
   ],
   "source": [
    "# look at the descriptions of 'installment' & 'loan_amnt'\n",
    "print('Installment: {}'.format(feat_info('installment')))\n",
    "print('\\n')\n",
    "print('Loan_Amnt: {}'.format(feat_info('loan_amnt')))"
   ]
  },
  {
   "cell_type": "markdown",
   "id": "b6dc70b5",
   "metadata": {},
   "source": [
    "After looking at the descriptions this explains why these two features are strongly correlated. The company most likely utilises the same function to generate installment amounts no matter what the loan amount is."
   ]
  },
  {
   "cell_type": "code",
   "execution_count": 89,
   "id": "9286afa6",
   "metadata": {},
   "outputs": [
    {
     "data": {
      "text/plain": [
       "<AxesSubplot:xlabel='installment', ylabel='loan_amnt'>"
      ]
     },
     "execution_count": 89,
     "metadata": {},
     "output_type": "execute_result"
    },
    {
     "data": {
      "image/png": "[encoded data removed]",
      "text/plain": [
       "<Figure size 864x576 with 1 Axes>"
      ]
     },
     "metadata": {
      "needs_background": "light"
     },
     "output_type": "display_data"
    }
   ],
   "source": [
    "# create a scatterplot between 'loan_amnt' & 'installment'\n",
    "plt.figure(figsize=[12,8])\n",
    "sns.scatterplot(data=df, x='installment', y='loan_amnt')"
   ]
  },
  {
   "cell_type": "code",
   "execution_count": 90,
   "id": "ed166406",
   "metadata": {},
   "outputs": [
    {
     "data": {
      "text/plain": [
       "<AxesSubplot:xlabel='loan_status', ylabel='loan_amnt'>"
      ]
     },
     "execution_count": 90,
     "metadata": {},
     "output_type": "execute_result"
    },
    {
     "data": {
      "image/png": "[encoded data removed]",
      "text/plain": [
       "<Figure size 1080x576 with 1 Axes>"
      ]
     },
     "metadata": {
      "needs_background": "light"
     },
     "output_type": "display_data"
    }
   ],
   "source": [
    "# create a boxplot showing relationship between 'loan_status' and 'loan_amnt'\n",
    "plt.figure(figsize=[15,8])\n",
    "sns.boxplot(data=df, x='loan_status', y='loan_amnt')"
   ]
  },
  {
   "cell_type": "markdown",
   "id": "12b0ae25",
   "metadata": {},
   "source": [
    "There is very little difference between these boxplots. In these scenarios it is good practice to look at the actual figures."
   ]
  },
  {
   "cell_type": "code",
   "execution_count": 91,
   "id": "1640452a",
   "metadata": {},
   "outputs": [
    {
     "data": {
      "text/html": [
       "<div>\n",
       "<style scoped>\n",
       "    .dataframe tbody tr th:only-of-type {\n",
       "        vertical-align: middle;\n",
       "    }\n",
       "\n",
       "    .dataframe tbody tr th {\n",
       "        vertical-align: top;\n",
       "    }\n",
       "\n",
       "    .dataframe thead th {\n",
       "        text-align: right;\n",
       "    }\n",
       "</style>\n",
       "<table border=\"1\" class=\"dataframe\">\n",
       "  <thead>\n",
       "    <tr style=\"text-align: right;\">\n",
       "      <th></th>\n",
       "      <th>count</th>\n",
       "      <th>mean</th>\n",
       "      <th>std</th>\n",
       "      <th>min</th>\n",
       "      <th>25%</th>\n",
       "      <th>50%</th>\n",
       "      <th>75%</th>\n",
       "      <th>max</th>\n",
       "    </tr>\n",
       "    <tr>\n",
       "      <th>loan_status</th>\n",
       "      <th></th>\n",
       "      <th></th>\n",
       "      <th></th>\n",
       "      <th></th>\n",
       "      <th></th>\n",
       "      <th></th>\n",
       "      <th></th>\n",
       "      <th></th>\n",
       "    </tr>\n",
       "  </thead>\n",
       "  <tbody>\n",
       "    <tr>\n",
       "      <th>Charged Off</th>\n",
       "      <td>77673.0</td>\n",
       "      <td>15126.300967</td>\n",
       "      <td>8505.090557</td>\n",
       "      <td>1000.0</td>\n",
       "      <td>8525.0</td>\n",
       "      <td>14000.0</td>\n",
       "      <td>20000.0</td>\n",
       "      <td>40000.0</td>\n",
       "    </tr>\n",
       "    <tr>\n",
       "      <th>Fully Paid</th>\n",
       "      <td>318357.0</td>\n",
       "      <td>13866.878771</td>\n",
       "      <td>8302.319699</td>\n",
       "      <td>500.0</td>\n",
       "      <td>7500.0</td>\n",
       "      <td>12000.0</td>\n",
       "      <td>19225.0</td>\n",
       "      <td>40000.0</td>\n",
       "    </tr>\n",
       "  </tbody>\n",
       "</table>\n",
       "</div>"
      ],
      "text/plain": [
       "                count          mean          std     min     25%      50%  \\\n",
       "loan_status                                                                 \n",
       "Charged Off   77673.0  15126.300967  8505.090557  1000.0  8525.0  14000.0   \n",
       "Fully Paid   318357.0  13866.878771  8302.319699   500.0  7500.0  12000.0   \n",
       "\n",
       "                 75%      max  \n",
       "loan_status                    \n",
       "Charged Off  20000.0  40000.0  \n",
       "Fully Paid   19225.0  40000.0  "
      ]
     },
     "execution_count": 91,
     "metadata": {},
     "output_type": "execute_result"
    }
   ],
   "source": [
    "# looking at the summary statistics of the above boxplot\n",
    "df.groupby('loan_status').describe()['loan_amnt']"
   ]
  },
  {
   "cell_type": "code",
   "execution_count": 92,
   "id": "9cffb6d4",
   "metadata": {},
   "outputs": [
    {
     "name": "stdout",
     "output_type": "stream",
     "text": [
      "Grades: ['A', 'B', 'C', 'D', 'E', 'F', 'G']\n",
      "Sub Grades: ['A1', 'A2', 'A3', 'A4', 'A5', 'B1', 'B2', 'B3', 'B4', 'B5', 'C1', 'C2', 'C3', 'C4', 'C5', 'D1', 'D2', 'D3', 'D4', 'D5', 'E1', 'E2', 'E3', 'E4', 'E5', 'F1', 'F2', 'F3', 'F4', 'F5', 'G1', 'G2', 'G3', 'G4', 'G5']\n"
     ]
    }
   ],
   "source": [
    "# explore the 'Grade' and 'SubGrade' columns that LendingClub categorise loans by\n",
    "# look at the unique grades LendingClub offer\n",
    "print(\"Grades: {}\".format(sorted(list(df['grade'].unique()))))\n",
    "print(\"Sub Grades: {}\".format(sorted(list(df['sub_grade'].unique()))))"
   ]
  },
  {
   "cell_type": "code",
   "execution_count": 93,
   "id": "2805f544",
   "metadata": {},
   "outputs": [
    {
     "data": {
      "text/plain": [
       "<AxesSubplot:xlabel='grade', ylabel='count'>"
      ]
     },
     "execution_count": 93,
     "metadata": {},
     "output_type": "execute_result"
    },
    {
     "data": {
      "image/png": "[encoded data removed]",
      "text/plain": [
       "<Figure size 1080x576 with 1 Axes>"
      ]
     },
     "metadata": {
      "needs_background": "light"
     },
     "output_type": "display_data"
    }
   ],
   "source": [
    "# create a countplot for each grade separated by 'loan_status'\n",
    "plt.figure(figsize=[15,8])\n",
    "sns.countplot(data=df, x='grade', hue='loan_status', order=sorted(list(df['grade'].unique())))"
   ]
  },
  {
   "cell_type": "code",
   "execution_count": 94,
   "id": "92ad1bc8",
   "metadata": {},
   "outputs": [
    {
     "data": {
      "text/plain": [
       "<AxesSubplot:xlabel='sub_grade', ylabel='count'>"
      ]
     },
     "execution_count": 94,
     "metadata": {},
     "output_type": "execute_result"
    },
    {
     "data": {
      "image/png": "[encoded data removed]",
      "text/plain": [
       "<Figure size 1080x576 with 1 Axes>"
      ]
     },
     "metadata": {
      "needs_background": "light"
     },
     "output_type": "display_data"
    }
   ],
   "source": [
    "# create a countplot per subgrade\n",
    "plt.figure(figsize=[15,8])\n",
    "sns.countplot(data=df, x='sub_grade', order=sorted(list(df['sub_grade'].unique())), palette='coolwarm')"
   ]
  },
  {
   "cell_type": "code",
   "execution_count": 95,
   "id": "8c2461b9",
   "metadata": {},
   "outputs": [
    {
     "data": {
      "text/plain": [
       "<AxesSubplot:xlabel='sub_grade', ylabel='count'>"
      ]
     },
     "execution_count": 95,
     "metadata": {},
     "output_type": "execute_result"
    },
    {
     "data": {
      "image/png": "[encoded data removed]",
      "text/plain": [
       "<Figure size 1080x576 with 1 Axes>"
      ]
     },
     "metadata": {
      "needs_background": "light"
     },
     "output_type": "display_data"
    }
   ],
   "source": [
    "# create the same countplot however break each 'sub_grade' down by 'loan_status'\n",
    "plt.figure(figsize=[15,8])\n",
    "sns.countplot(data=df, x='sub_grade', hue='loan_status', order=sorted(list(df['sub_grade'].unique())), palette='coolwarm')"
   ]
  },
  {
   "cell_type": "markdown",
   "id": "ea473eb5",
   "metadata": {},
   "source": [
    "The two countplots show that subgrades F & G rarely get paid back. Lets isolate these subgrades and inspect."
   ]
  },
  {
   "cell_type": "code",
   "execution_count": 96,
   "id": "d857e24b",
   "metadata": {},
   "outputs": [
    {
     "data": {
      "text/plain": [
       "<AxesSubplot:xlabel='sub_grade', ylabel='count'>"
      ]
     },
     "execution_count": 96,
     "metadata": {},
     "output_type": "execute_result"
    },
    {
     "data": {
      "image/png": "[encoded data removed]",
      "text/plain": [
       "<Figure size 1080x576 with 1 Axes>"
      ]
     },
     "metadata": {
      "needs_background": "light"
     },
     "output_type": "display_data"
    }
   ],
   "source": [
    "# create countplot for subgrade f and g with breakdown by 'loan_status'\n",
    "df_grades = df[(df['grade']=='F') | (df['grade']=='G')]\n",
    "plt.figure(figsize=[15,8])\n",
    "sns.countplot(data=df_grades, x='sub_grade', hue='loan_status', order=sorted(list(df_grades['sub_grade'].unique())), palette='coolwarm')"
   ]
  },
  {
   "cell_type": "markdown",
   "id": "dc22e758",
   "metadata": {},
   "source": [
    "The current target label 'loan_status' is a string, in order to look at how the other features are correlated with the target label we must convert it to a numeric. We can do this by changing the two categories of 'Fully Paid' & 'Charged Off' to 1's & 0's. Pandas built in function *get_dummies()* will be used before then visualising the correlation of features with the new target varaible column 'loan_repaid' in a countplot."
   ]
  },
  {
   "cell_type": "code",
   "execution_count": 97,
   "id": "a5aeed9a",
   "metadata": {},
   "outputs": [
    {
     "data": {
      "text/html": [
       "<div>\n",
       "<style scoped>\n",
       "    .dataframe tbody tr th:only-of-type {\n",
       "        vertical-align: middle;\n",
       "    }\n",
       "\n",
       "    .dataframe tbody tr th {\n",
       "        vertical-align: top;\n",
       "    }\n",
       "\n",
       "    .dataframe thead th {\n",
       "        text-align: right;\n",
       "    }\n",
       "</style>\n",
       "<table border=\"1\" class=\"dataframe\">\n",
       "  <thead>\n",
       "    <tr style=\"text-align: right;\">\n",
       "      <th></th>\n",
       "      <th>loan_status</th>\n",
       "      <th>loan_repaid</th>\n",
       "    </tr>\n",
       "  </thead>\n",
       "  <tbody>\n",
       "    <tr>\n",
       "      <th>0</th>\n",
       "      <td>Fully Paid</td>\n",
       "      <td>1</td>\n",
       "    </tr>\n",
       "    <tr>\n",
       "      <th>1</th>\n",
       "      <td>Fully Paid</td>\n",
       "      <td>1</td>\n",
       "    </tr>\n",
       "    <tr>\n",
       "      <th>2</th>\n",
       "      <td>Fully Paid</td>\n",
       "      <td>1</td>\n",
       "    </tr>\n",
       "    <tr>\n",
       "      <th>3</th>\n",
       "      <td>Fully Paid</td>\n",
       "      <td>1</td>\n",
       "    </tr>\n",
       "    <tr>\n",
       "      <th>4</th>\n",
       "      <td>Charged Off</td>\n",
       "      <td>0</td>\n",
       "    </tr>\n",
       "    <tr>\n",
       "      <th>...</th>\n",
       "      <td>...</td>\n",
       "      <td>...</td>\n",
       "    </tr>\n",
       "    <tr>\n",
       "      <th>396025</th>\n",
       "      <td>Fully Paid</td>\n",
       "      <td>1</td>\n",
       "    </tr>\n",
       "    <tr>\n",
       "      <th>396026</th>\n",
       "      <td>Fully Paid</td>\n",
       "      <td>1</td>\n",
       "    </tr>\n",
       "    <tr>\n",
       "      <th>396027</th>\n",
       "      <td>Fully Paid</td>\n",
       "      <td>1</td>\n",
       "    </tr>\n",
       "    <tr>\n",
       "      <th>396028</th>\n",
       "      <td>Fully Paid</td>\n",
       "      <td>1</td>\n",
       "    </tr>\n",
       "    <tr>\n",
       "      <th>396029</th>\n",
       "      <td>Fully Paid</td>\n",
       "      <td>1</td>\n",
       "    </tr>\n",
       "  </tbody>\n",
       "</table>\n",
       "<p>396030 rows × 2 columns</p>\n",
       "</div>"
      ],
      "text/plain": [
       "        loan_status  loan_repaid\n",
       "0        Fully Paid            1\n",
       "1        Fully Paid            1\n",
       "2        Fully Paid            1\n",
       "3        Fully Paid            1\n",
       "4       Charged Off            0\n",
       "...             ...          ...\n",
       "396025   Fully Paid            1\n",
       "396026   Fully Paid            1\n",
       "396027   Fully Paid            1\n",
       "396028   Fully Paid            1\n",
       "396029   Fully Paid            1\n",
       "\n",
       "[396030 rows x 2 columns]"
      ]
     },
     "execution_count": 97,
     "metadata": {},
     "output_type": "execute_result"
    }
   ],
   "source": [
    "# create a new column called 'loan_repaid' which will be the dummy variables for 'loan_status'\n",
    "# use pd.get_dummies() & remember to set drop_first=True so that you prevent data leaking\n",
    "# you you had many categories you would need to get rid of the first one\n",
    "# because if all other categories have a zero then it will obviously be the last category\n",
    "df['loan_repaid'] = pd.get_dummies(df['loan_status'], drop_first=True)\n",
    "df[['loan_status', 'loan_repaid']]"
   ]
  },
  {
   "cell_type": "code",
   "execution_count": 98,
   "id": "bd2cea0e",
   "metadata": {},
   "outputs": [
    {
     "data": {
      "text/plain": [
       "int_rate               -0.247758\n",
       "revol_util             -0.082373\n",
       "dti                    -0.062413\n",
       "loan_amnt              -0.059836\n",
       "installment            -0.041082\n",
       "open_acc               -0.028012\n",
       "pub_rec                -0.019933\n",
       "pub_rec_bankruptcies   -0.009383\n",
       "revol_bal               0.010892\n",
       "total_acc               0.017893\n",
       "annual_inc              0.053432\n",
       "mort_acc                0.073111\n",
       "Name: loan_repaid, dtype: float64"
      ]
     },
     "execution_count": 98,
     "metadata": {},
     "output_type": "execute_result"
    }
   ],
   "source": [
    "df.corr()['loan_repaid'][:-1].sort_values()"
   ]
  },
  {
   "cell_type": "code",
   "execution_count": 99,
   "id": "59ce33f0",
   "metadata": {},
   "outputs": [
    {
     "data": {
      "text/plain": [
       "<AxesSubplot:>"
      ]
     },
     "execution_count": 99,
     "metadata": {},
     "output_type": "execute_result"
    },
    {
     "data": {
      "image/png": "[encoded data removed]",
      "text/plain": [
       "<Figure size 1080x576 with 1 Axes>"
      ]
     },
     "metadata": {
      "needs_background": "light"
     },
     "output_type": "display_data"
    }
   ],
   "source": [
    "# now visualise the correlation with seaborn's countplot\n",
    "plt.figure(figsize=[15,8])\n",
    "df.corr()['loan_repaid'][:-1].sort_values().plot(kind='bar', cmap='viridis')"
   ]
  },
  {
   "cell_type": "markdown",
   "id": "c559139b",
   "metadata": {},
   "source": [
    "## Section 3: Preprocessing the Data, Addressing Missing Data and Categorical Variables"
   ]
  },
  {
   "cell_type": "markdown",
   "id": "0eac41ad",
   "metadata": {},
   "source": [
    "- Address missing data by either eliminating or filling in the data\n",
    "- Remove uneccessary or repetitive features\n",
    "- Convert categorical string features to dummy variables"
   ]
  },
  {
   "cell_type": "markdown",
   "id": "cc5ae664",
   "metadata": {},
   "source": [
    "### Missing Data"
   ]
  },
  {
   "cell_type": "code",
   "execution_count": 100,
   "id": "738d511d",
   "metadata": {},
   "outputs": [
    {
     "name": "stdout",
     "output_type": "stream",
     "text": [
      "loan_amnt                   0\n",
      "term                        0\n",
      "int_rate                    0\n",
      "installment                 0\n",
      "grade                       0\n",
      "sub_grade                   0\n",
      "emp_title               22927\n",
      "emp_length              18301\n",
      "home_ownership              0\n",
      "annual_inc                  0\n",
      "verification_status         0\n",
      "issue_d                     0\n",
      "loan_status                 0\n",
      "purpose                     0\n",
      "title                    1755\n",
      "dti                         0\n",
      "earliest_cr_line            0\n",
      "open_acc                    0\n",
      "pub_rec                     0\n",
      "revol_bal                   0\n",
      "revol_util                276\n",
      "total_acc                   0\n",
      "initial_list_status         0\n",
      "application_type            0\n",
      "mort_acc                37795\n",
      "pub_rec_bankruptcies      535\n",
      "address                     0\n",
      "loan_repaid                 0\n",
      "dtype: int64\n"
     ]
    },
    {
     "data": {
      "text/plain": [
       "<AxesSubplot:>"
      ]
     },
     "execution_count": 100,
     "metadata": {},
     "output_type": "execute_result"
    },
    {
     "data": {
      "image/png": "[encoded data removed]",
      "text/plain": [
       "<Figure size 1296x576 with 1 Axes>"
      ]
     },
     "metadata": {
      "needs_background": "light"
     },
     "output_type": "display_data"
    }
   ],
   "source": [
    "# first identify where there is missing data\n",
    "# look at both the numerical figures and also visualise with a heatmap\n",
    "print(df.isnull().sum())\n",
    "plt.figure(figsize=[18,8])\n",
    "sns.heatmap(data=df.isnull(), cbar=False, yticklabels=False, cmap='viridis')"
   ]
  },
  {
   "cell_type": "code",
   "execution_count": 101,
   "id": "b498771c",
   "metadata": {},
   "outputs": [
    {
     "data": {
      "text/plain": [
       "loan_amnt               0.000000\n",
       "term                    0.000000\n",
       "int_rate                0.000000\n",
       "installment             0.000000\n",
       "grade                   0.000000\n",
       "sub_grade               0.000000\n",
       "emp_title               5.789208\n",
       "emp_length              4.621115\n",
       "home_ownership          0.000000\n",
       "annual_inc              0.000000\n",
       "verification_status     0.000000\n",
       "issue_d                 0.000000\n",
       "loan_status             0.000000\n",
       "purpose                 0.000000\n",
       "title                   0.443148\n",
       "dti                     0.000000\n",
       "earliest_cr_line        0.000000\n",
       "open_acc                0.000000\n",
       "pub_rec                 0.000000\n",
       "revol_bal               0.000000\n",
       "revol_util              0.069692\n",
       "total_acc               0.000000\n",
       "initial_list_status     0.000000\n",
       "application_type        0.000000\n",
       "mort_acc                9.543469\n",
       "pub_rec_bankruptcies    0.135091\n",
       "address                 0.000000\n",
       "loan_repaid             0.000000\n",
       "dtype: float64"
      ]
     },
     "execution_count": 101,
     "metadata": {},
     "output_type": "execute_result"
    }
   ],
   "source": [
    "# look at the number of erros as a percentage of the total number of rows in the dataframe\n",
    "df.isnull().sum() / df.shape[0] * 100"
   ]
  },
  {
   "cell_type": "markdown",
   "id": "969d21bc",
   "metadata": {},
   "source": [
    "This list will be worked through one by one until the data is clean. This process will start with looking at 'emp_title' and 'emp_length' and whether it is ok to drop them."
   ]
  },
  {
   "cell_type": "code",
   "execution_count": 102,
   "id": "af18cd45",
   "metadata": {},
   "outputs": [
    {
     "name": "stdout",
     "output_type": "stream",
     "text": [
      "emp_title: The job title supplied by the Borrower when applying for the loan.*\n",
      "\n",
      "\n",
      "emp_length: Employment length in years. Possible values are between 0 and 10 where 0 means less than one year and 10 means ten or more years. \n"
     ]
    }
   ],
   "source": [
    "# look at the descriptions for 'emp_length' & 'emp_title'\n",
    "print(\"emp_title: {}\".format(feat_info('emp_title')))\n",
    "print('\\n')\n",
    "print(\"emp_length: {}\".format(feat_info('emp_length')))"
   ]
  },
  {
   "cell_type": "code",
   "execution_count": 103,
   "id": "bb1936cc",
   "metadata": {},
   "outputs": [
    {
     "name": "stdout",
     "output_type": "stream",
     "text": [
      "173105\n"
     ]
    },
    {
     "data": {
      "text/plain": [
       "Teacher                    4389\n",
       "Manager                    4250\n",
       "Registered Nurse           1856\n",
       "RN                         1846\n",
       "Supervisor                 1830\n",
       "                           ... \n",
       "Postman                       1\n",
       "McCarthy & Holthus, LLC       1\n",
       "jp flooring                   1\n",
       "Histology Technologist        1\n",
       "Gracon Services, Inc          1\n",
       "Name: emp_title, Length: 173105, dtype: int64"
      ]
     },
     "execution_count": 103,
     "metadata": {},
     "output_type": "execute_result"
    }
   ],
   "source": [
    "# how many unique employment job titles are there?\n",
    "print(df['emp_title'].nunique ())\n",
    "df['emp_title'].value_counts()"
   ]
  },
  {
   "cell_type": "markdown",
   "id": "038cf7b5",
   "metadata": {},
   "source": [
    "There are too many unique jobs titles to convert this to a dummy variable feature, hence *emp_title* will be dropped."
   ]
  },
  {
   "cell_type": "code",
   "execution_count": 104,
   "id": "66de097d",
   "metadata": {},
   "outputs": [],
   "source": [
    "# drop emp_title column\n",
    "df.drop('emp_title', axis=1, inplace=True)"
   ]
  },
  {
   "cell_type": "code",
   "execution_count": 105,
   "id": "cb68a2af",
   "metadata": {},
   "outputs": [
    {
     "name": "stdout",
     "output_type": "stream",
     "text": [
      "['< 1 year', '1 year', '2 years', '3 years', '4 years', '5 years', '6 years', '7 years', '8 years', '9 years', '10+ years']\n"
     ]
    },
    {
     "data": {
      "text/plain": [
       "<AxesSubplot:xlabel='emp_length', ylabel='count'>"
      ]
     },
     "execution_count": 105,
     "metadata": {},
     "output_type": "execute_result"
    },
    {
     "data": {
      "image/png": "[encoded data removed]",
      "text/plain": [
       "<Figure size 1296x576 with 1 Axes>"
      ]
     },
     "metadata": {
      "needs_background": "light"
     },
     "output_type": "display_data"
    }
   ],
   "source": [
    "# now inspect 'emp_length' and visualise\n",
    "# create the correct order of 'emp_length' unique values\n",
    "order = sorted(list(df['emp_length'].unique().astype('str')))[:-1]\n",
    "order.insert(0,order[-1])\n",
    "order.insert(-1,order[2])\n",
    "order.pop(-1)\n",
    "order.pop(2)\n",
    "print(order)\n",
    "\n",
    "plt.figure(figsize=[18,8])\n",
    "sns.countplot(x='emp_length', data=df, order=order)"
   ]
  },
  {
   "cell_type": "code",
   "execution_count": 106,
   "id": "5d1b8897",
   "metadata": {},
   "outputs": [
    {
     "data": {
      "text/plain": [
       "<AxesSubplot:xlabel='emp_length', ylabel='count'>"
      ]
     },
     "execution_count": 106,
     "metadata": {},
     "output_type": "execute_result"
    },
    {
     "data": {
      "image/png": "[encoded data removed]",
      "text/plain": [
       "<Figure size 1296x576 with 1 Axes>"
      ]
     },
     "metadata": {
      "needs_background": "light"
     },
     "output_type": "display_data"
    }
   ],
   "source": [
    "# create the same plot but provide a breakdown by 'loan_status'\n",
    "plt.figure(figsize=[18,8])\n",
    "sns.countplot(x='emp_length', data=df, order=order, hue='loan_status')"
   ]
  },
  {
   "cell_type": "markdown",
   "id": "67a2774b",
   "metadata": {},
   "source": [
    "This still does not inform whether there is a strong relationship between employment length and loan status. What would be good to look at is the percentage of charged off loans per employee length."
   ]
  },
  {
   "cell_type": "code",
   "execution_count": 107,
   "id": "587e3429",
   "metadata": {},
   "outputs": [
    {
     "name": "stdout",
     "output_type": "stream",
     "text": [
      "            % Charged Off\n",
      "emp_length               \n",
      "1 year           0.199135\n",
      "10+ years        0.184186\n",
      "2 years          0.193262\n",
      "3 years          0.195231\n",
      "4 years          0.192385\n",
      "5 years          0.192187\n",
      "6 years          0.189194\n",
      "7 years          0.194774\n",
      "8 years          0.199760\n",
      "9 years          0.200470\n",
      "< 1 year         0.206872\n"
     ]
    },
    {
     "data": {
      "text/plain": [
       "<AxesSubplot:xlabel='emp_length', ylabel='% Charged Off'>"
      ]
     },
     "execution_count": 107,
     "metadata": {},
     "output_type": "execute_result"
    },
    {
     "data": {
      "image/png": "[encoded data removed]",
      "text/plain": [
       "<Figure size 1296x576 with 1 Axes>"
      ]
     },
     "metadata": {
      "needs_background": "light"
     },
     "output_type": "display_data"
    }
   ],
   "source": [
    "# create a dataframe showing the percent of loans 'charged off'\n",
    "# do this for each 'emp_length' category\n",
    "df_pc = (df[df['loan_status']=='Charged Off'].groupby('emp_length').count()['loan_amnt'] / df.groupby('emp_length').count()['loan_amnt']).to_frame().rename(columns={'loan_amnt':'% Charged Off'})\n",
    "print(df_pc)\n",
    "\n",
    "# visualise with a barplot with seaborn\n",
    "plt.figure(figsize=[18,8])\n",
    "sns.barplot(data=df_pc, x=df_pc.index, y='% Charged Off', order=order)"
   ]
  },
  {
   "cell_type": "markdown",
   "id": "2753f604",
   "metadata": {},
   "source": [
    "There is a not a siginifcant correlation between employment lengths and loan status, so this feature will be removed."
   ]
  },
  {
   "cell_type": "code",
   "execution_count": 108,
   "id": "b48da7cd",
   "metadata": {},
   "outputs": [],
   "source": [
    "# remove emp_length\n",
    "df.drop('emp_length', axis=1, inplace=True)"
   ]
  },
  {
   "cell_type": "markdown",
   "id": "7c2028fc",
   "metadata": {},
   "source": [
    "Continue to work through the missing values in df. Next up is looking at the title column."
   ]
  },
  {
   "cell_type": "code",
   "execution_count": 109,
   "id": "b319a53c",
   "metadata": {},
   "outputs": [
    {
     "name": "stdout",
     "output_type": "stream",
     "text": [
      "loan_amnt                   0\n",
      "term                        0\n",
      "int_rate                    0\n",
      "installment                 0\n",
      "grade                       0\n",
      "sub_grade                   0\n",
      "home_ownership              0\n",
      "annual_inc                  0\n",
      "verification_status         0\n",
      "issue_d                     0\n",
      "loan_status                 0\n",
      "purpose                     0\n",
      "title                    1755\n",
      "dti                         0\n",
      "earliest_cr_line            0\n",
      "open_acc                    0\n",
      "pub_rec                     0\n",
      "revol_bal                   0\n",
      "revol_util                276\n",
      "total_acc                   0\n",
      "initial_list_status         0\n",
      "application_type            0\n",
      "mort_acc                37795\n",
      "pub_rec_bankruptcies      535\n",
      "address                     0\n",
      "loan_repaid                 0\n",
      "dtype: int64\n"
     ]
    },
    {
     "data": {
      "text/plain": [
       "<AxesSubplot:>"
      ]
     },
     "execution_count": 109,
     "metadata": {},
     "output_type": "execute_result"
    },
    {
     "data": {
      "image/png": "[encoded data removed]",
      "text/plain": [
       "<Figure size 1296x576 with 1 Axes>"
      ]
     },
     "metadata": {
      "needs_background": "light"
     },
     "output_type": "display_data"
    }
   ],
   "source": [
    "# relook at the errors in the dataframe\n",
    "print(df.isnull().sum())\n",
    "plt.figure(figsize=[18,8])\n",
    "sns.heatmap(data=df.isnull(), cbar=False, yticklabels=False, cmap='viridis')"
   ]
  },
  {
   "cell_type": "code",
   "execution_count": 110,
   "id": "d3fc971e",
   "metadata": {},
   "outputs": [
    {
     "data": {
      "text/plain": [
       "title                                  purpose           \n",
       "Debt consolidation                     debt_consolidation    152106\n",
       "Credit card refinancing                credit_card            51354\n",
       "Home improvement                       home_improvement       15182\n",
       "Other                                  other                  12878\n",
       "Debt Consolidation                     debt_consolidation     10837\n",
       "                                                              ...  \n",
       "Going green for good                   major_purchase             1\n",
       "Going out high interest credit cards.  credit_card                1\n",
       "Going to Make it                       credit_card                1\n",
       "Going to be proud owner of home        house                      1\n",
       "~Summer Fun~                           home_improvement           1\n",
       "Length: 54958, dtype: int64"
      ]
     },
     "execution_count": 110,
     "metadata": {},
     "output_type": "execute_result"
    }
   ],
   "source": [
    "# comparing the 'title' and 'purpose' columns\n",
    "df[['title', 'purpose']].value_counts()"
   ]
  },
  {
   "cell_type": "markdown",
   "id": "271c9956",
   "metadata": {},
   "source": [
    "It seems that the title column is simply a string subcategory/description of the purpose column; hence, it will be dropped."
   ]
  },
  {
   "cell_type": "code",
   "execution_count": 111,
   "id": "64102c76",
   "metadata": {},
   "outputs": [],
   "source": [
    "# drop the 'title' column\n",
    "df.drop('title', axis=1, inplace=True)"
   ]
  },
  {
   "cell_type": "markdown",
   "id": "d86c2ce0",
   "metadata": {},
   "source": [
    "Next is to look at *mort_acc* column now contains the largest number of errors compared to the other columns in the df. The missing values in this column will be filled in by the mean of *mort_acc* when grouped by the corresponding total_acc value.\n",
    "\n",
    "Other approaches to fill in the missing data could be:\n",
    "- creating a simple linear model to predict values for *mort_acc*.\n",
    "- bin the column into categories and then set NaN as its own category"
   ]
  },
  {
   "cell_type": "code",
   "execution_count": 112,
   "id": "97ab4524",
   "metadata": {},
   "outputs": [
    {
     "name": "stdout",
     "output_type": "stream",
     "text": [
      "loan_amnt                   0\n",
      "term                        0\n",
      "int_rate                    0\n",
      "installment                 0\n",
      "grade                       0\n",
      "sub_grade                   0\n",
      "home_ownership              0\n",
      "annual_inc                  0\n",
      "verification_status         0\n",
      "issue_d                     0\n",
      "loan_status                 0\n",
      "purpose                     0\n",
      "dti                         0\n",
      "earliest_cr_line            0\n",
      "open_acc                    0\n",
      "pub_rec                     0\n",
      "revol_bal                   0\n",
      "revol_util                276\n",
      "total_acc                   0\n",
      "initial_list_status         0\n",
      "application_type            0\n",
      "mort_acc                37795\n",
      "pub_rec_bankruptcies      535\n",
      "address                     0\n",
      "loan_repaid                 0\n",
      "dtype: int64\n"
     ]
    },
    {
     "data": {
      "text/plain": [
       "<AxesSubplot:>"
      ]
     },
     "execution_count": 112,
     "metadata": {},
     "output_type": "execute_result"
    },
    {
     "data": {
      "image/png": "[encoded data removed]",
      "text/plain": [
       "<Figure size 1296x576 with 1 Axes>"
      ]
     },
     "metadata": {
      "needs_background": "light"
     },
     "output_type": "display_data"
    }
   ],
   "source": [
    "# relook at the errors in the dataframe\n",
    "print(df.isnull().sum())\n",
    "plt.figure(figsize=[18,8])\n",
    "sns.heatmap(data=df.isnull(), cbar=False, yticklabels=False, cmap='viridis')"
   ]
  },
  {
   "cell_type": "code",
   "execution_count": 113,
   "id": "2d5f290e",
   "metadata": {},
   "outputs": [
    {
     "data": {
      "text/plain": [
       "int_rate               -0.082583\n",
       "dti                    -0.025439\n",
       "revol_util              0.007514\n",
       "pub_rec                 0.011552\n",
       "pub_rec_bankruptcies    0.027239\n",
       "loan_repaid             0.073111\n",
       "open_acc                0.109205\n",
       "installment             0.193694\n",
       "revol_bal               0.194925\n",
       "loan_amnt               0.222315\n",
       "annual_inc              0.236320\n",
       "total_acc               0.381072\n",
       "mort_acc                1.000000\n",
       "Name: mort_acc, dtype: float64"
      ]
     },
     "execution_count": 113,
     "metadata": {},
     "output_type": "execute_result"
    }
   ],
   "source": [
    "# seeing which variables correlate the highest with 'mort_acc'\n",
    "df.corr()['mort_acc'].sort_values()"
   ]
  },
  {
   "cell_type": "markdown",
   "id": "236b1279",
   "metadata": {},
   "source": [
    "Here we can see what is the feature most correlated with *mort_acc* is *total_acc* which makes sense because people with a higher number of total accounts are more likely to have a higher number of mortgage accounts."
   ]
  },
  {
   "cell_type": "code",
   "execution_count": 114,
   "id": "df92202b",
   "metadata": {},
   "outputs": [
    {
     "data": {
      "text/html": [
       "<div>\n",
       "<style scoped>\n",
       "    .dataframe tbody tr th:only-of-type {\n",
       "        vertical-align: middle;\n",
       "    }\n",
       "\n",
       "    .dataframe tbody tr th {\n",
       "        vertical-align: top;\n",
       "    }\n",
       "\n",
       "    .dataframe thead th {\n",
       "        text-align: right;\n",
       "    }\n",
       "</style>\n",
       "<table border=\"1\" class=\"dataframe\">\n",
       "  <thead>\n",
       "    <tr style=\"text-align: right;\">\n",
       "      <th></th>\n",
       "      <th>mort_acc</th>\n",
       "    </tr>\n",
       "    <tr>\n",
       "      <th>total_acc</th>\n",
       "      <th></th>\n",
       "    </tr>\n",
       "  </thead>\n",
       "  <tbody>\n",
       "    <tr>\n",
       "      <th>2.0</th>\n",
       "      <td>0.000000</td>\n",
       "    </tr>\n",
       "    <tr>\n",
       "      <th>3.0</th>\n",
       "      <td>0.052023</td>\n",
       "    </tr>\n",
       "    <tr>\n",
       "      <th>4.0</th>\n",
       "      <td>0.066743</td>\n",
       "    </tr>\n",
       "    <tr>\n",
       "      <th>5.0</th>\n",
       "      <td>0.103289</td>\n",
       "    </tr>\n",
       "    <tr>\n",
       "      <th>6.0</th>\n",
       "      <td>0.151293</td>\n",
       "    </tr>\n",
       "    <tr>\n",
       "      <th>...</th>\n",
       "      <td>...</td>\n",
       "    </tr>\n",
       "    <tr>\n",
       "      <th>124.0</th>\n",
       "      <td>1.000000</td>\n",
       "    </tr>\n",
       "    <tr>\n",
       "      <th>129.0</th>\n",
       "      <td>1.000000</td>\n",
       "    </tr>\n",
       "    <tr>\n",
       "      <th>135.0</th>\n",
       "      <td>3.000000</td>\n",
       "    </tr>\n",
       "    <tr>\n",
       "      <th>150.0</th>\n",
       "      <td>2.000000</td>\n",
       "    </tr>\n",
       "    <tr>\n",
       "      <th>151.0</th>\n",
       "      <td>0.000000</td>\n",
       "    </tr>\n",
       "  </tbody>\n",
       "</table>\n",
       "<p>118 rows × 1 columns</p>\n",
       "</div>"
      ],
      "text/plain": [
       "           mort_acc\n",
       "total_acc          \n",
       "2.0        0.000000\n",
       "3.0        0.052023\n",
       "4.0        0.066743\n",
       "5.0        0.103289\n",
       "6.0        0.151293\n",
       "...             ...\n",
       "124.0      1.000000\n",
       "129.0      1.000000\n",
       "135.0      3.000000\n",
       "150.0      2.000000\n",
       "151.0      0.000000\n",
       "\n",
       "[118 rows x 1 columns]"
      ]
     },
     "execution_count": 114,
     "metadata": {},
     "output_type": "execute_result"
    }
   ],
   "source": [
    "# calculating the mean 'mort_acc' when grouped by 'total_acc'\n",
    "df_mean_by_ta = df.groupby('total_acc').mean()['mort_acc'].to_frame()\n",
    "df_mean_by_ta"
   ]
  },
  {
   "cell_type": "code",
   "execution_count": 115,
   "id": "898bd3e7",
   "metadata": {},
   "outputs": [],
   "source": [
    "# now to fill in missing values of 'mort_acc'\n",
    "# replacing values with the mean of 'mort_acc' when grouped by corresponding 'total_acc' value\n",
    "# need to create a function to do this\n",
    "# then use .apply() with a lambda function\n",
    "\n",
    "def error_iron(total_acc_value, mort_acc_value):\n",
    "    \n",
    "    if np.isnan(mort_acc_value)==False:\n",
    "        return mort_acc_value\n",
    "    \n",
    "    elif np.isnan(mort_acc_value)==True:\n",
    "        return df_mean_by_ta.loc[total_acc_value][0]\n",
    "    \n",
    "# now call the function\n",
    "df['mort_acc'] = df[['total_acc','mort_acc']].apply(lambda x: error_iron(x[0], x[1]), axis=1)"
   ]
  },
  {
   "cell_type": "code",
   "execution_count": 116,
   "id": "d2f22099",
   "metadata": {},
   "outputs": [
    {
     "name": "stdout",
     "output_type": "stream",
     "text": [
      "loan_amnt                 0\n",
      "term                      0\n",
      "int_rate                  0\n",
      "installment               0\n",
      "grade                     0\n",
      "sub_grade                 0\n",
      "home_ownership            0\n",
      "annual_inc                0\n",
      "verification_status       0\n",
      "issue_d                   0\n",
      "loan_status               0\n",
      "purpose                   0\n",
      "dti                       0\n",
      "earliest_cr_line          0\n",
      "open_acc                  0\n",
      "pub_rec                   0\n",
      "revol_bal                 0\n",
      "revol_util              276\n",
      "total_acc                 0\n",
      "initial_list_status       0\n",
      "application_type          0\n",
      "mort_acc                  0\n",
      "pub_rec_bankruptcies    535\n",
      "address                   0\n",
      "loan_repaid               0\n",
      "dtype: int64\n"
     ]
    },
    {
     "data": {
      "text/plain": [
       "<AxesSubplot:>"
      ]
     },
     "execution_count": 116,
     "metadata": {},
     "output_type": "execute_result"
    },
    {
     "data": {
      "image/png": "[encoded data removed]",
      "text/plain": [
       "<Figure size 1296x576 with 1 Axes>"
      ]
     },
     "metadata": {
      "needs_background": "light"
     },
     "output_type": "display_data"
    }
   ],
   "source": [
    "# relooking at the errors in df\n",
    "# relook at the errors in the dataframe\n",
    "print(df.isnull().sum())\n",
    "plt.figure(figsize=[18,8])\n",
    "sns.heatmap(data=df.isnull(), cbar=False, yticklabels=False, cmap='viridis')"
   ]
  },
  {
   "cell_type": "markdown",
   "id": "d9ee35ed",
   "metadata": {},
   "source": [
    "There are now no more errors in the *mort_acc* column. The last two columns left account for less than %0.5 of the total data so the rows containing the errors will simply be removed."
   ]
  },
  {
   "cell_type": "code",
   "execution_count": 117,
   "id": "a89fcdf7",
   "metadata": {},
   "outputs": [],
   "source": [
    "# remove rows with errors in both 'revol_util' & 'pub_rec_bankruptcies' columns\n",
    "df.dropna(subset=['revol_util', 'pub_rec_bankruptcies'], inplace=True)"
   ]
  },
  {
   "cell_type": "code",
   "execution_count": 118,
   "id": "b74d6719",
   "metadata": {},
   "outputs": [
    {
     "name": "stdout",
     "output_type": "stream",
     "text": [
      "loan_amnt               0\n",
      "term                    0\n",
      "int_rate                0\n",
      "installment             0\n",
      "grade                   0\n",
      "sub_grade               0\n",
      "home_ownership          0\n",
      "annual_inc              0\n",
      "verification_status     0\n",
      "issue_d                 0\n",
      "loan_status             0\n",
      "purpose                 0\n",
      "dti                     0\n",
      "earliest_cr_line        0\n",
      "open_acc                0\n",
      "pub_rec                 0\n",
      "revol_bal               0\n",
      "revol_util              0\n",
      "total_acc               0\n",
      "initial_list_status     0\n",
      "application_type        0\n",
      "mort_acc                0\n",
      "pub_rec_bankruptcies    0\n",
      "address                 0\n",
      "loan_repaid             0\n",
      "dtype: int64\n"
     ]
    },
    {
     "data": {
      "text/plain": [
       "<AxesSubplot:>"
      ]
     },
     "execution_count": 118,
     "metadata": {},
     "output_type": "execute_result"
    },
    {
     "data": {
      "image/png": "[encoded data removed]",
      "text/plain": [
       "<Figure size 1296x576 with 1 Axes>"
      ]
     },
     "metadata": {
      "needs_background": "light"
     },
     "output_type": "display_data"
    }
   ],
   "source": [
    "# relooking at the errros in df\n",
    "# relooking at the errors in df\n",
    "# relook at the errors in the dataframe\n",
    "print(df.isnull().sum())\n",
    "plt.figure(figsize=[18,8])\n",
    "sns.heatmap(data=df.isnull(), cbar=False, yticklabels=False, cmap='viridis')"
   ]
  },
  {
   "cell_type": "markdown",
   "id": "0462b5cb",
   "metadata": {},
   "source": [
    "There are no more errors so the next task is to move onto the categorical string features and changing them to dummy variable features."
   ]
  },
  {
   "cell_type": "markdown",
   "id": "d1308eb1",
   "metadata": {},
   "source": [
    "### Categorical Variables and Dummy Variables"
   ]
  },
  {
   "cell_type": "markdown",
   "id": "25fd3f12",
   "metadata": {},
   "source": [
    "Now time to explore the categorical string variables and see if they can be converted into dummy variable features. We will begin by looking at all the non-numeric columns in the dataframe; furthermore, each feature will be reviewed one by one."
   ]
  },
  {
   "cell_type": "code",
   "execution_count": 119,
   "id": "21b6b25f",
   "metadata": {},
   "outputs": [
    {
     "data": {
      "text/plain": [
       "Index(['term', 'grade', 'sub_grade', 'home_ownership', 'verification_status',\n",
       "       'issue_d', 'loan_status', 'purpose', 'earliest_cr_line',\n",
       "       'initial_list_status', 'application_type', 'address'],\n",
       "      dtype='object')"
      ]
     },
     "execution_count": 119,
     "metadata": {},
     "output_type": "execute_result"
    }
   ],
   "source": [
    "# seeing what columns are non-numeric in df\n",
    "df.select_dtypes(include='object').columns"
   ]
  },
  {
   "cell_type": "markdown",
   "id": "377f4584",
   "metadata": {},
   "source": [
    "#### *term*"
   ]
  },
  {
   "cell_type": "code",
   "execution_count": 120,
   "id": "e00aa84f",
   "metadata": {},
   "outputs": [
    {
     "data": {
      "text/plain": [
       " 36 months    301247\n",
       " 60 months     93972\n",
       "Name: term, dtype: int64"
      ]
     },
     "execution_count": 120,
     "metadata": {},
     "output_type": "execute_result"
    }
   ],
   "source": [
    "# see the value counts of the 'term' column\n",
    "df['term'].value_counts()"
   ]
  },
  {
   "cell_type": "code",
   "execution_count": 121,
   "id": "6af8bac3",
   "metadata": {},
   "outputs": [],
   "source": [
    "# convert the two unique strings to numbers respectively\n",
    "df['term'] = np.where(df['term'].str.contains('36 months'), 36, 60)"
   ]
  },
  {
   "cell_type": "code",
   "execution_count": 122,
   "id": "c3004b80",
   "metadata": {},
   "outputs": [
    {
     "name": "stdout",
     "output_type": "stream",
     "text": [
      "int32\n"
     ]
    },
    {
     "data": {
      "text/plain": [
       "36    301247\n",
       "60     93972\n",
       "Name: term, dtype: int64"
      ]
     },
     "execution_count": 122,
     "metadata": {},
     "output_type": "execute_result"
    }
   ],
   "source": [
    "# recheck the value counts and check the datatype\n",
    "print(df['term'].dtype)\n",
    "df['term'].value_counts()"
   ]
  },
  {
   "cell_type": "markdown",
   "id": "22e9fa49",
   "metadata": {},
   "source": [
    "#### *grade*"
   ]
  },
  {
   "cell_type": "code",
   "execution_count": 123,
   "id": "5379de03",
   "metadata": {},
   "outputs": [],
   "source": [
    "# already know that grade is part of subgrade so we can drop this column\n",
    "df.drop('grade', axis=1, inplace=True)"
   ]
  },
  {
   "cell_type": "markdown",
   "id": "68554c6d",
   "metadata": {},
   "source": [
    "#### *sub_grade*"
   ]
  },
  {
   "cell_type": "code",
   "execution_count": 124,
   "id": "866d4b5c",
   "metadata": {},
   "outputs": [
    {
     "data": {
      "text/plain": [
       "Index(['loan_amnt', 'term', 'int_rate', 'installment', 'home_ownership',\n",
       "       'annual_inc', 'verification_status', 'issue_d', 'loan_status',\n",
       "       'purpose', 'dti', 'earliest_cr_line', 'open_acc', 'pub_rec',\n",
       "       'revol_bal', 'revol_util', 'total_acc', 'initial_list_status',\n",
       "       'application_type', 'mort_acc', 'pub_rec_bankruptcies', 'address',\n",
       "       'loan_repaid', 'A2', 'A3', 'A4', 'A5', 'B1', 'B2', 'B3', 'B4', 'B5',\n",
       "       'C1', 'C2', 'C3', 'C4', 'C5', 'D1', 'D2', 'D3', 'D4', 'D5', 'E1', 'E2',\n",
       "       'E3', 'E4', 'E5', 'F1', 'F2', 'F3', 'F4', 'F5', 'G1', 'G2', 'G3', 'G4',\n",
       "       'G5'],\n",
       "      dtype='object')"
      ]
     },
     "execution_count": 124,
     "metadata": {},
     "output_type": "execute_result"
    }
   ],
   "source": [
    "# convert the subgrade column to dummy variables and concatenate to df, also drop the origional sub grade column after concat\n",
    "df = pd.concat([df,pd.get_dummies(df['sub_grade'], drop_first=True)], axis=1)\n",
    "df.drop('sub_grade', axis=1, inplace=True)\n",
    "df.columns"
   ]
  },
  {
   "cell_type": "markdown",
   "id": "ef3feeb3",
   "metadata": {},
   "source": [
    "#### *verification_status, application_type, initial_list_status, purpose*"
   ]
  },
  {
   "cell_type": "code",
   "execution_count": 125,
   "id": "aaf81e10",
   "metadata": {},
   "outputs": [
    {
     "data": {
      "text/plain": [
       "Verified           139451\n",
       "Source Verified    131301\n",
       "Not Verified       124467\n",
       "Name: verification_status, dtype: int64"
      ]
     },
     "execution_count": 125,
     "metadata": {},
     "output_type": "execute_result"
    }
   ],
   "source": [
    "df['verification_status'].value_counts()"
   ]
  },
  {
   "cell_type": "code",
   "execution_count": 126,
   "id": "611c23b3",
   "metadata": {},
   "outputs": [
    {
     "data": {
      "text/plain": [
       "INDIVIDUAL    394508\n",
       "JOINT            425\n",
       "DIRECT_PAY       286\n",
       "Name: application_type, dtype: int64"
      ]
     },
     "execution_count": 126,
     "metadata": {},
     "output_type": "execute_result"
    }
   ],
   "source": [
    "df['application_type'].value_counts()"
   ]
  },
  {
   "cell_type": "code",
   "execution_count": 127,
   "id": "c6e822f2",
   "metadata": {},
   "outputs": [
    {
     "data": {
      "text/plain": [
       "f    237346\n",
       "w    157873\n",
       "Name: initial_list_status, dtype: int64"
      ]
     },
     "execution_count": 127,
     "metadata": {},
     "output_type": "execute_result"
    }
   ],
   "source": [
    "df['initial_list_status'].value_counts()"
   ]
  },
  {
   "cell_type": "code",
   "execution_count": 128,
   "id": "fff45ba9",
   "metadata": {},
   "outputs": [
    {
     "data": {
      "text/plain": [
       "debt_consolidation    234169\n",
       "credit_card            82923\n",
       "home_improvement       23961\n",
       "other                  21059\n",
       "major_purchase          8756\n",
       "small_business          5656\n",
       "car                     4670\n",
       "medical                 4175\n",
       "moving                  2842\n",
       "vacation                2442\n",
       "house                   2197\n",
       "wedding                 1794\n",
       "renewable_energy         329\n",
       "educational              246\n",
       "Name: purpose, dtype: int64"
      ]
     },
     "execution_count": 128,
     "metadata": {},
     "output_type": "execute_result"
    }
   ],
   "source": [
    "df['purpose'].value_counts()"
   ]
  },
  {
   "cell_type": "code",
   "execution_count": 129,
   "id": "9ca821c8",
   "metadata": {},
   "outputs": [
    {
     "data": {
      "text/plain": [
       "Index(['loan_amnt', 'term', 'int_rate', 'installment', 'home_ownership',\n",
       "       'annual_inc', 'issue_d', 'loan_status', 'dti', 'earliest_cr_line',\n",
       "       'open_acc', 'pub_rec', 'revol_bal', 'revol_util', 'total_acc',\n",
       "       'mort_acc', 'pub_rec_bankruptcies', 'address', 'loan_repaid', 'A2',\n",
       "       'A3', 'A4', 'A5', 'B1', 'B2', 'B3', 'B4', 'B5', 'C1', 'C2', 'C3', 'C4',\n",
       "       'C5', 'D1', 'D2', 'D3', 'D4', 'D5', 'E1', 'E2', 'E3', 'E4', 'E5', 'F1',\n",
       "       'F2', 'F3', 'F4', 'F5', 'G1', 'G2', 'G3', 'G4', 'G5',\n",
       "       'verification_status_Source Verified', 'verification_status_Verified',\n",
       "       'application_type_INDIVIDUAL', 'application_type_JOINT',\n",
       "       'initial_list_status_w', 'purpose_credit_card',\n",
       "       'purpose_debt_consolidation', 'purpose_educational',\n",
       "       'purpose_home_improvement', 'purpose_house', 'purpose_major_purchase',\n",
       "       'purpose_medical', 'purpose_moving', 'purpose_other',\n",
       "       'purpose_renewable_energy', 'purpose_small_business',\n",
       "       'purpose_vacation', 'purpose_wedding'],\n",
       "      dtype='object')"
      ]
     },
     "execution_count": 129,
     "metadata": {},
     "output_type": "execute_result"
    }
   ],
   "source": [
    "# convert all these columns to dummy variables and concatenate to df\n",
    "# drop all origional columns from the dataframe\n",
    "df = pd.concat([df, pd.get_dummies(df[['verification_status', 'application_type', 'initial_list_status', 'purpose']], drop_first=True)], axis=1)\n",
    "df.drop(['verification_status', 'application_type', 'initial_list_status', 'purpose'], axis=1, inplace=True)\n",
    "df.columns"
   ]
  },
  {
   "cell_type": "markdown",
   "id": "379e60f4",
   "metadata": {},
   "source": [
    "#### *home_ownership*"
   ]
  },
  {
   "cell_type": "code",
   "execution_count": 130,
   "id": "41b1bcc0",
   "metadata": {},
   "outputs": [
    {
     "data": {
      "text/plain": [
       "MORTGAGE    198022\n",
       "RENT        159395\n",
       "OWN          37660\n",
       "OTHER          110\n",
       "NONE            29\n",
       "ANY              3\n",
       "Name: home_ownership, dtype: int64"
      ]
     },
     "execution_count": 130,
     "metadata": {},
     "output_type": "execute_result"
    }
   ],
   "source": [
    "# look at value counts of 'home_ownership' column\n",
    "df['home_ownership'].value_counts()"
   ]
  },
  {
   "cell_type": "code",
   "execution_count": 131,
   "id": "a46e985d",
   "metadata": {},
   "outputs": [
    {
     "data": {
      "text/plain": [
       "Index(['loan_amnt', 'term', 'int_rate', 'installment', 'annual_inc', 'issue_d',\n",
       "       'loan_status', 'dti', 'earliest_cr_line', 'open_acc', 'pub_rec',\n",
       "       'revol_bal', 'revol_util', 'total_acc', 'mort_acc',\n",
       "       'pub_rec_bankruptcies', 'address', 'loan_repaid', 'A2', 'A3', 'A4',\n",
       "       'A5', 'B1', 'B2', 'B3', 'B4', 'B5', 'C1', 'C2', 'C3', 'C4', 'C5', 'D1',\n",
       "       'D2', 'D3', 'D4', 'D5', 'E1', 'E2', 'E3', 'E4', 'E5', 'F1', 'F2', 'F3',\n",
       "       'F4', 'F5', 'G1', 'G2', 'G3', 'G4', 'G5',\n",
       "       'verification_status_Source Verified', 'verification_status_Verified',\n",
       "       'application_type_INDIVIDUAL', 'application_type_JOINT',\n",
       "       'initial_list_status_w', 'purpose_credit_card',\n",
       "       'purpose_debt_consolidation', 'purpose_educational',\n",
       "       'purpose_home_improvement', 'purpose_house', 'purpose_major_purchase',\n",
       "       'purpose_medical', 'purpose_moving', 'purpose_other',\n",
       "       'purpose_renewable_energy', 'purpose_small_business',\n",
       "       'purpose_vacation', 'purpose_wedding', 'OTHER', 'OWN', 'RENT'],\n",
       "      dtype='object')"
      ]
     },
     "execution_count": 131,
     "metadata": {},
     "output_type": "execute_result"
    }
   ],
   "source": [
    "# convert 'NONE' and 'ANY' to 'OTHER' so that there are only 4 categories\n",
    "# then convert to dummy variables and concatenate to df\n",
    "# drop origional 'home_ownership' column\n",
    "df['home_ownership'].replace(['NONE','ANY'], 'OTHER', inplace=True)\n",
    "df = pd.concat([df, pd.get_dummies(df['home_ownership'], drop_first=True)], axis=1)\n",
    "df.drop('home_ownership', axis=1, inplace=True)\n",
    "df.columns"
   ]
  },
  {
   "cell_type": "markdown",
   "id": "d670b3e1",
   "metadata": {},
   "source": [
    "#### *address*"
   ]
  },
  {
   "cell_type": "code",
   "execution_count": 132,
   "id": "14b39e32",
   "metadata": {},
   "outputs": [
    {
     "data": {
      "text/plain": [
       "70466    56880\n",
       "22690    56413\n",
       "30723    56402\n",
       "48052    55811\n",
       "00813    45725\n",
       "29597    45393\n",
       "05113    45300\n",
       "11650    11210\n",
       "93700    11126\n",
       "86630    10959\n",
       "Name: zip_code, dtype: int64"
      ]
     },
     "execution_count": 132,
     "metadata": {},
     "output_type": "execute_result"
    }
   ],
   "source": [
    "# taking a feature engineering approach with the address column to extract the zip code from each row\n",
    "# create a new zip code column using lambda expression on address column\n",
    "df['zip_code'] = df['address'].apply(lambda x: x[-5:])\n",
    "df['zip_code'].value_counts()"
   ]
  },
  {
   "cell_type": "code",
   "execution_count": 133,
   "id": "e2f82189",
   "metadata": {},
   "outputs": [
    {
     "data": {
      "text/plain": [
       "Index(['loan_amnt', 'term', 'int_rate', 'installment', 'annual_inc', 'issue_d',\n",
       "       'loan_status', 'dti', 'earliest_cr_line', 'open_acc', 'pub_rec',\n",
       "       'revol_bal', 'revol_util', 'total_acc', 'mort_acc',\n",
       "       'pub_rec_bankruptcies', 'loan_repaid', 'A2', 'A3', 'A4', 'A5', 'B1',\n",
       "       'B2', 'B3', 'B4', 'B5', 'C1', 'C2', 'C3', 'C4', 'C5', 'D1', 'D2', 'D3',\n",
       "       'D4', 'D5', 'E1', 'E2', 'E3', 'E4', 'E5', 'F1', 'F2', 'F3', 'F4', 'F5',\n",
       "       'G1', 'G2', 'G3', 'G4', 'G5', 'verification_status_Source Verified',\n",
       "       'verification_status_Verified', 'application_type_INDIVIDUAL',\n",
       "       'application_type_JOINT', 'initial_list_status_w',\n",
       "       'purpose_credit_card', 'purpose_debt_consolidation',\n",
       "       'purpose_educational', 'purpose_home_improvement', 'purpose_house',\n",
       "       'purpose_major_purchase', 'purpose_medical', 'purpose_moving',\n",
       "       'purpose_other', 'purpose_renewable_energy', 'purpose_small_business',\n",
       "       'purpose_vacation', 'purpose_wedding', 'OTHER', 'OWN', 'RENT', '05113',\n",
       "       '11650', '22690', '29597', '30723', '48052', '70466', '86630', '93700'],\n",
       "      dtype='object')"
      ]
     },
     "execution_count": 133,
     "metadata": {},
     "output_type": "execute_result"
    }
   ],
   "source": [
    "# note theres is only a handful of zip codes so we can convert the new zip code column to dummy variables and concat to df\n",
    "# then drop both the address and origional zip code column\n",
    "df = pd.concat([df, pd.get_dummies(df['zip_code'], drop_first=True)], axis=1)\n",
    "df.drop(['address', 'zip_code'], axis=1, inplace=True)\n",
    "df.columns"
   ]
  },
  {
   "cell_type": "markdown",
   "id": "9779b8e0",
   "metadata": {},
   "source": [
    "#### *issue_d*"
   ]
  },
  {
   "cell_type": "code",
   "execution_count": 134,
   "id": "db7778c3",
   "metadata": {},
   "outputs": [],
   "source": [
    "# the issue date column implies that the loan application has been accepted, HOWEVER...\n",
    "# we would not know before hand whether nor not a loan would be issued when using our model\n",
    "# hence we must remove this column otherwise it would be data leakage\n",
    "df.drop('issue_d', axis=1, inplace=True)"
   ]
  },
  {
   "cell_type": "markdown",
   "id": "b0b29063",
   "metadata": {},
   "source": [
    "#### *earliest_cr_line*"
   ]
  },
  {
   "cell_type": "code",
   "execution_count": 135,
   "id": "27ede6ea",
   "metadata": {},
   "outputs": [],
   "source": [
    "# feature engineer this column to extract the year from the timestamp\n",
    "# create a new column called 'earliest_cr_year' and drop the origional 'earliest_cr_line' column\n",
    "df['earliest_cr_year'] = pd.to_datetime(df['earliest_cr_line']).apply(lambda x: x.year)\n",
    "df.drop('earliest_cr_line', axis=1, inplace=True)"
   ]
  },
  {
   "cell_type": "markdown",
   "id": "8aa373a9",
   "metadata": {},
   "source": [
    "#### *loan_status*"
   ]
  },
  {
   "cell_type": "code",
   "execution_count": 136,
   "id": "f8e7ca15",
   "metadata": {},
   "outputs": [],
   "source": [
    "# we have already created a column of 1's and 0's to replace the loan_status column, hence it can be dropped\n",
    "df.drop('loan_status', axis=1, inplace=True)"
   ]
  },
  {
   "cell_type": "code",
   "execution_count": 137,
   "id": "99c63b67",
   "metadata": {},
   "outputs": [
    {
     "data": {
      "text/plain": [
       "Index([], dtype='object')"
      ]
     },
     "execution_count": 137,
     "metadata": {},
     "output_type": "execute_result"
    }
   ],
   "source": [
    "# now look to see if there are any remaining non-numeric columns\n",
    "df.select_dtypes(include='object').columns"
   ]
  },
  {
   "cell_type": "markdown",
   "id": "278e8a6a",
   "metadata": {},
   "source": [
    "All the non-numerics columns have now been converted to numerics ones. The next step is the train test split the data and apply a standard scaler before building the artificial neural net."
   ]
  },
  {
   "cell_type": "markdown",
   "id": "3b0cf389",
   "metadata": {},
   "source": [
    "## Section 4: Scaling the Data and Conducting a Train Test Split"
   ]
  },
  {
   "cell_type": "markdown",
   "id": "f57225c7",
   "metadata": {},
   "source": [
    "Keep in mind that the artificial neural net will not accept dataframe structures, hence *.values* must be used when specifying inputs for train test split. Furthermore, the scaler used will be *StandardScaler*."
   ]
  },
  {
   "cell_type": "code",
   "execution_count": 138,
   "id": "b1827668",
   "metadata": {},
   "outputs": [],
   "source": [
    "# define the variables to enter into the train test split\n",
    "# IMPORTANT TO NOTE: neural net only takes in values and will not accept dataframes as inputs so must use .values\n",
    "X = df.drop('loan_repaid', axis=1).values\n",
    "y = df['loan_repaid'].values"
   ]
  },
  {
   "cell_type": "code",
   "execution_count": 139,
   "id": "8afdb25e",
   "metadata": {},
   "outputs": [],
   "source": [
    "# now split the data into a training set and a testing set\n",
    "x_train, x_test, y_train, y_test = train_test_split(X, y, test_size=0.2, random_state=107)"
   ]
  },
  {
   "cell_type": "code",
   "execution_count": 140,
   "id": "78d94733",
   "metadata": {},
   "outputs": [],
   "source": [
    "# now make an instance of the 'StandardScaler' and train the scaler on x_train\n",
    "# then transform both x_train and x_test datasets\n",
    "scaler = StandardScaler()\n",
    "scaler.fit(x_train)\n",
    "x_train = scaler.transform(x_train)\n",
    "x_test = scaler.transform(x_test)"
   ]
  },
  {
   "cell_type": "code",
   "execution_count": 141,
   "id": "be4e4bf1",
   "metadata": {},
   "outputs": [],
   "source": [
    "# save the scaler using pickle\n",
    "with open('classification_scaler', 'wb') as file:\n",
    "    pickle.dump(scaler, file)"
   ]
  },
  {
   "cell_type": "code",
   "execution_count": 142,
   "id": "39b2fc30",
   "metadata": {},
   "outputs": [],
   "source": [
    "# this is the code to load the scaler file using pickle\n",
    "#with open('classification_scaler', 'rb') as scaler_file:\n",
    "#    scaler = pickle.load(scaler_file)"
   ]
  },
  {
   "cell_type": "markdown",
   "id": "3410bdc5",
   "metadata": {},
   "source": [
    "## Section 5: Building the Artificial Neural Net Model"
   ]
  },
  {
   "cell_type": "markdown",
   "id": "d15bcbac",
   "metadata": {},
   "source": [
    "The neural net will resemble the following construction: *78--> 39--> 19--> 1*.\n",
    "\n",
    "A rectified linear unit (ReLU) activation function will be used for the input and hidden layers of the net. However, for the output layer the activation function will be Sigmoid because this model is predicting a binary classification so the results must be between 0 and 1.\n",
    "\n",
    "Seeing as the output is a binary classification, the type of loss function will be *binary_crossentropy* because it is a binary classification prediction.\n",
    "\n",
    "The optimizer used will be Adam seeing as this is generally the best performing optimizer.\n",
    "\n",
    "Dropout layers help prevent against overfitting on the training data. This involves a random percentage of nodes being switched off in a given layer each epoch. Dropout layers will be added to the input and the hidden layer but obviously not the output layer.\n",
    "\n",
    "Lastly, early stopping will be implemented so that the model will stop as soon as the loss function reaches a minimum. This will save time on training the model."
   ]
  },
  {
   "cell_type": "code",
   "execution_count": 143,
   "id": "7a945ca5",
   "metadata": {},
   "outputs": [
    {
     "data": {
      "text/plain": [
       "(316175, 78)"
      ]
     },
     "execution_count": 143,
     "metadata": {},
     "output_type": "execute_result"
    }
   ],
   "source": [
    "# seeing how many inputs we have in the model\n",
    "x_train.shape"
   ]
  },
  {
   "cell_type": "code",
   "execution_count": 144,
   "id": "c4caea0e",
   "metadata": {},
   "outputs": [],
   "source": [
    "# creating an instance of Sequential\n",
    "model = Sequential()\n",
    "\n",
    "# input layer\n",
    "model.add(Dense(units=78, activation='relu'))\n",
    "model.add(Dropout(0.2))\n",
    "\n",
    "# hidden layer 1\n",
    "model.add(Dense(units=39, activation='relu'))\n",
    "model.add(Dropout(0.2))\n",
    "\n",
    "# hidden layer 2\n",
    "model.add(Dense(units=19, activation='relu'))\n",
    "model.add(Dropout(0.2))\n",
    "\n",
    "# output layer\n",
    "# remember it is a binary classification model so the activation should be a sigmoid function so values are between 0 and 1\n",
    "model.add(Dense(units=1, activation='sigmoid'))\n",
    "\n",
    "# now compile the model\n",
    "# remember it is a binary classification problem so the loss metric should be binary_crossentropy\n",
    "model.compile(loss='binary_crossentropy', optimizer='adam')"
   ]
  },
  {
   "cell_type": "code",
   "execution_count": 145,
   "id": "9521c710",
   "metadata": {},
   "outputs": [],
   "source": [
    "# creating an early_stop variable to add into the model\n",
    "early_stop = EarlyStopping(monitor='val_loss', mode='min', patience=25, verbose=1)"
   ]
  },
  {
   "cell_type": "code",
   "execution_count": 146,
   "id": "658aaa2c",
   "metadata": {},
   "outputs": [
    {
     "name": "stdout",
     "output_type": "stream",
     "text": [
      "Epoch 1/500\n",
      "1236/1236 [==============================] - 10s 6ms/step - loss: 0.2991 - val_loss: 0.2611\n",
      "Epoch 2/500\n",
      "1236/1236 [==============================] - 8s 6ms/step - loss: 0.2648 - val_loss: 0.2575\n",
      "Epoch 3/500\n",
      "1236/1236 [==============================] - 8s 6ms/step - loss: 0.2611 - val_loss: 0.2570\n",
      "Epoch 4/500\n",
      "1236/1236 [==============================] - 7s 6ms/step - loss: 0.2595 - val_loss: 0.2560\n",
      "Epoch 5/500\n",
      "1236/1236 [==============================] - 8s 6ms/step - loss: 0.2587 - val_loss: 0.2556\n",
      "Epoch 6/500\n",
      "1236/1236 [==============================] - 8s 6ms/step - loss: 0.2582 - val_loss: 0.2560\n",
      "Epoch 7/500\n",
      "1236/1236 [==============================] - 8s 6ms/step - loss: 0.2576 - val_loss: 0.2549\n",
      "Epoch 8/500\n",
      "1236/1236 [==============================] - 7s 6ms/step - loss: 0.2571 - val_loss: 0.2553\n",
      "Epoch 9/500\n",
      "1236/1236 [==============================] - 8s 6ms/step - loss: 0.2566 - val_loss: 0.2551\n",
      "Epoch 10/500\n",
      "1236/1236 [==============================] - 7s 6ms/step - loss: 0.2565 - val_loss: 0.2548\n",
      "Epoch 11/500\n",
      "1236/1236 [==============================] - 7s 6ms/step - loss: 0.2561 - val_loss: 0.2554\n",
      "Epoch 12/500\n",
      "1236/1236 [==============================] - 8s 6ms/step - loss: 0.2559 - val_loss: 0.2541\n",
      "Epoch 13/500\n",
      "1236/1236 [==============================] - 8s 6ms/step - loss: 0.2556 - val_loss: 0.2540\n",
      "Epoch 14/500\n",
      "1236/1236 [==============================] - 7s 6ms/step - loss: 0.2555 - val_loss: 0.2539\n",
      "Epoch 15/500\n",
      "1236/1236 [==============================] - 8s 6ms/step - loss: 0.2550 - val_loss: 0.2546\n",
      "Epoch 16/500\n",
      "1236/1236 [==============================] - 8s 6ms/step - loss: 0.2550 - val_loss: 0.2539\n",
      "Epoch 17/500\n",
      "1236/1236 [==============================] - 8s 6ms/step - loss: 0.2547 - val_loss: 0.2544\n",
      "Epoch 18/500\n",
      "1236/1236 [==============================] - 8s 6ms/step - loss: 0.2546 - val_loss: 0.2537\n",
      "Epoch 19/500\n",
      "1236/1236 [==============================] - 8s 6ms/step - loss: 0.2544 - val_loss: 0.2542\n",
      "Epoch 20/500\n",
      "1236/1236 [==============================] - 8s 6ms/step - loss: 0.2543 - val_loss: 0.2545\n",
      "Epoch 21/500\n",
      "1236/1236 [==============================] - 8s 6ms/step - loss: 0.2540 - val_loss: 0.2545\n",
      "Epoch 22/500\n",
      "1236/1236 [==============================] - 8s 6ms/step - loss: 0.2538 - val_loss: 0.2538\n",
      "Epoch 23/500\n",
      "1236/1236 [==============================] - 8s 6ms/step - loss: 0.2535 - val_loss: 0.2536\n",
      "Epoch 24/500\n",
      "1236/1236 [==============================] - 8s 6ms/step - loss: 0.2535 - val_loss: 0.2540\n",
      "Epoch 25/500\n",
      "1236/1236 [==============================] - 8s 6ms/step - loss: 0.2534 - val_loss: 0.2539\n",
      "Epoch 26/500\n",
      "1236/1236 [==============================] - 8s 6ms/step - loss: 0.2532 - val_loss: 0.2537\n",
      "Epoch 27/500\n",
      "1236/1236 [==============================] - 8s 6ms/step - loss: 0.2531 - val_loss: 0.2540\n",
      "Epoch 28/500\n",
      "1236/1236 [==============================] - 8s 6ms/step - loss: 0.2529 - val_loss: 0.2541\n",
      "Epoch 29/500\n",
      "1236/1236 [==============================] - 8s 6ms/step - loss: 0.2530 - val_loss: 0.2538\n",
      "Epoch 30/500\n",
      "1236/1236 [==============================] - 8s 6ms/step - loss: 0.2531 - val_loss: 0.2543\n",
      "Epoch 31/500\n",
      "1236/1236 [==============================] - 8s 6ms/step - loss: 0.2529 - val_loss: 0.2545\n",
      "Epoch 32/500\n",
      "1236/1236 [==============================] - 7s 6ms/step - loss: 0.2525 - val_loss: 0.2542\n",
      "Epoch 33/500\n",
      "1236/1236 [==============================] - 8s 6ms/step - loss: 0.2526 - val_loss: 0.2545\n",
      "Epoch 34/500\n",
      "1236/1236 [==============================] - 8s 6ms/step - loss: 0.2523 - val_loss: 0.2544\n",
      "Epoch 35/500\n",
      "1236/1236 [==============================] - 8s 6ms/step - loss: 0.2523 - val_loss: 0.2548\n",
      "Epoch 36/500\n",
      "1236/1236 [==============================] - 7s 6ms/step - loss: 0.2522 - val_loss: 0.2548\n",
      "Epoch 37/500\n",
      "1236/1236 [==============================] - 7s 6ms/step - loss: 0.2519 - val_loss: 0.2545\n",
      "Epoch 38/500\n",
      "1236/1236 [==============================] - 7s 6ms/step - loss: 0.2519 - val_loss: 0.2539\n",
      "Epoch 39/500\n",
      "1236/1236 [==============================] - 8s 6ms/step - loss: 0.2519 - val_loss: 0.2544\n",
      "Epoch 40/500\n",
      "1236/1236 [==============================] - 7s 6ms/step - loss: 0.2517 - val_loss: 0.2548\n",
      "Epoch 41/500\n",
      "1236/1236 [==============================] - 7s 6ms/step - loss: 0.2518 - val_loss: 0.2543\n",
      "Epoch 42/500\n",
      "1236/1236 [==============================] - 7s 6ms/step - loss: 0.2517 - val_loss: 0.2548\n",
      "Epoch 43/500\n",
      "1236/1236 [==============================] - 7s 6ms/step - loss: 0.2514 - val_loss: 0.2545\n",
      "Epoch 44/500\n",
      "1236/1236 [==============================] - 7s 6ms/step - loss: 0.2515 - val_loss: 0.2543\n",
      "Epoch 45/500\n",
      "1236/1236 [==============================] - 7s 6ms/step - loss: 0.2513 - val_loss: 0.2548\n",
      "Epoch 46/500\n",
      "1236/1236 [==============================] - 8s 6ms/step - loss: 0.2516 - val_loss: 0.2548\n",
      "Epoch 47/500\n",
      "1236/1236 [==============================] - 7s 6ms/step - loss: 0.2517 - val_loss: 0.2544\n",
      "Epoch 48/500\n",
      "1236/1236 [==============================] - 7s 6ms/step - loss: 0.2513 - val_loss: 0.2546\n",
      "Epoch 00048: early stopping\n"
     ]
    },
    {
     "data": {
      "text/plain": [
       "<keras.callbacks.History at 0x2240107c6d0>"
      ]
     },
     "execution_count": 146,
     "metadata": {},
     "output_type": "execute_result"
    }
   ],
   "source": [
    "# now time to fit the model to the training data\n",
    "# due to the size of the data we can alter the batch size to help with reduce the training time\n",
    "# we can enter an arbitrarily large epoch number seeing as we have applied an early stop callback\n",
    "# the fit method has an option to pass in validation data so we get an update on the loss during each epoch\n",
    "model.fit(x_train, y_train, batch_size=256, epochs=500, verbose=1, callbacks=early_stop, validation_data=(x_test, y_test))"
   ]
  },
  {
   "cell_type": "code",
   "execution_count": 147,
   "id": "52c58b75",
   "metadata": {},
   "outputs": [],
   "source": [
    "# we can save the model by writing the following code as saving as a .h5 filetype\n",
    "model.save('ANN Binary Classification Model.h5')"
   ]
  },
  {
   "cell_type": "code",
   "execution_count": 148,
   "id": "dd877451",
   "metadata": {},
   "outputs": [],
   "source": [
    "# if we want to load the model we can use the following code\n",
    "#model = load_model('ANN Binary Classification Model.h5')"
   ]
  },
  {
   "cell_type": "markdown",
   "id": "6945397c",
   "metadata": {},
   "source": [
    "## Section 6: Evaluate Model Performance"
   ]
  },
  {
   "cell_type": "code",
   "execution_count": 149,
   "id": "33291935",
   "metadata": {},
   "outputs": [
    {
     "data": {
      "text/html": [
       "<div>\n",
       "<style scoped>\n",
       "    .dataframe tbody tr th:only-of-type {\n",
       "        vertical-align: middle;\n",
       "    }\n",
       "\n",
       "    .dataframe tbody tr th {\n",
       "        vertical-align: top;\n",
       "    }\n",
       "\n",
       "    .dataframe thead th {\n",
       "        text-align: right;\n",
       "    }\n",
       "</style>\n",
       "<table border=\"1\" class=\"dataframe\">\n",
       "  <thead>\n",
       "    <tr style=\"text-align: right;\">\n",
       "      <th></th>\n",
       "      <th>loss</th>\n",
       "      <th>val_loss</th>\n",
       "    </tr>\n",
       "  </thead>\n",
       "  <tbody>\n",
       "    <tr>\n",
       "      <th>0</th>\n",
       "      <td>0.299082</td>\n",
       "      <td>0.261143</td>\n",
       "    </tr>\n",
       "    <tr>\n",
       "      <th>1</th>\n",
       "      <td>0.264816</td>\n",
       "      <td>0.257496</td>\n",
       "    </tr>\n",
       "    <tr>\n",
       "      <th>2</th>\n",
       "      <td>0.261133</td>\n",
       "      <td>0.257020</td>\n",
       "    </tr>\n",
       "    <tr>\n",
       "      <th>3</th>\n",
       "      <td>0.259536</td>\n",
       "      <td>0.255983</td>\n",
       "    </tr>\n",
       "    <tr>\n",
       "      <th>4</th>\n",
       "      <td>0.258746</td>\n",
       "      <td>0.255631</td>\n",
       "    </tr>\n",
       "  </tbody>\n",
       "</table>\n",
       "</div>"
      ],
      "text/plain": [
       "       loss  val_loss\n",
       "0  0.299082  0.261143\n",
       "1  0.264816  0.257496\n",
       "2  0.261133  0.257020\n",
       "3  0.259536  0.255983\n",
       "4  0.258746  0.255631"
      ]
     },
     "execution_count": 149,
     "metadata": {},
     "output_type": "execute_result"
    }
   ],
   "source": [
    "# save both the training loss and the validation loss and put them into a dataframe\n",
    "df_loss = pd.DataFrame(model.history.history)\n",
    "df_loss.head()"
   ]
  },
  {
   "cell_type": "code",
   "execution_count": 150,
   "id": "040f5d64",
   "metadata": {},
   "outputs": [
    {
     "data": {
      "text/plain": [
       "<AxesSubplot:>"
      ]
     },
     "execution_count": 150,
     "metadata": {},
     "output_type": "execute_result"
    },
    {
     "data": {
      "image/png": "[encoded data removed]",
      "text/plain": [
       "<Figure size 1296x576 with 1 Axes>"
      ]
     },
     "metadata": {
      "needs_background": "light"
     },
     "output_type": "display_data"
    }
   ],
   "source": [
    "# visualise the loss results\n",
    "df_loss.plot(figsize=[18,8])"
   ]
  },
  {
   "cell_type": "code",
   "execution_count": 151,
   "id": "d410f275",
   "metadata": {},
   "outputs": [
    {
     "data": {
      "text/plain": [
       "array([[1],\n",
       "       [1],\n",
       "       [1],\n",
       "       ...,\n",
       "       [1],\n",
       "       [1],\n",
       "       [0]])"
      ]
     },
     "execution_count": 151,
     "metadata": {},
     "output_type": "execute_result"
    }
   ],
   "source": [
    "# extracting predictions using x_test from the model and converting them to 1's and 0's\n",
    "yhat = model.predict(x_test)\n",
    "yhat_classes = (yhat > 0.5).astype('int32')\n",
    "yhat_classes"
   ]
  },
  {
   "cell_type": "code",
   "execution_count": 152,
   "id": "7cabfbd8",
   "metadata": {},
   "outputs": [
    {
     "name": "stdout",
     "output_type": "stream",
     "text": [
      "[[ 7099  8360]\n",
      " [  346 63239]]\n",
      "\n",
      "\n",
      "              precision    recall  f1-score   support\n",
      "\n",
      "           0       0.95      0.46      0.62     15459\n",
      "           1       0.88      0.99      0.94     63585\n",
      "\n",
      "    accuracy                           0.89     79044\n",
      "   macro avg       0.92      0.73      0.78     79044\n",
      "weighted avg       0.90      0.89      0.87     79044\n",
      "\n"
     ]
    }
   ],
   "source": [
    "# evaluate the model by looking at a classification report and a confusion matrix\n",
    "print(confusion_matrix(y_test, yhat_classes))\n",
    "print('\\n')\n",
    "print(classification_report(y_test, yhat_classes))"
   ]
  },
  {
   "cell_type": "code",
   "execution_count": 153,
   "id": "6f96be0a",
   "metadata": {},
   "outputs": [
    {
     "name": "stdout",
     "output_type": "stream",
     "text": [
      "80%\n"
     ]
    }
   ],
   "source": [
    "# inspecting how unbalanced the dataset actually is\n",
    "print(\"{}%\".format(round(df['loan_repaid'].value_counts()[1]/len(df) *100)))"
   ]
  },
  {
   "cell_type": "markdown",
   "id": "988e6f3c",
   "metadata": {},
   "source": [
    "Remember that the dataset was imbalanced between loans being fully repaid and charged off. The percentage of loans fully paid off is 80% which means that if we made a simple model that always predicted fully paid then the model would be 80% accurate. In these scenarios it is thought to treat 80% accuracy as the bottom threshold. Which means the 89% accuracy is ok but is not amazing.\n",
    "\n",
    "The actual metrics we want to take a look at are precision, recall and f1-score. The true indicator class we should be looking at when considering the three metrics is the 'charged off' category (or 0) because it has a lower representation in the dataset. So the best indicator of how well the model is doing is looking at the f1-score for the 0 class (f1-score) takes the harmonic mean between precision and recall). As we can see 0.62 means there is room for improvement, this could come from adding more neurons, layers or tuning dropout rates etc.\n",
    "\n",
    "Now the model will be tested on a random person in the dataset."
   ]
  },
  {
   "cell_type": "code",
   "execution_count": 154,
   "id": "c3737317",
   "metadata": {},
   "outputs": [
    {
     "data": {
      "text/plain": [
       "loan_amnt           25000.00\n",
       "term                   60.00\n",
       "int_rate               18.24\n",
       "installment           638.11\n",
       "annual_inc          61665.00\n",
       "                      ...   \n",
       "48052                   0.00\n",
       "70466                   0.00\n",
       "86630                   0.00\n",
       "93700                   0.00\n",
       "earliest_cr_year     1996.00\n",
       "Name: 305323, Length: 78, dtype: float64"
      ]
     },
     "execution_count": 154,
     "metadata": {},
     "output_type": "execute_result"
    }
   ],
   "source": [
    "# randomly selecting a customer\n",
    "random.seed(101)\n",
    "random_ind = random.randint(0,len(df))\n",
    "\n",
    "new_customer = df.drop('loan_repaid', axis=1).iloc[random_ind]\n",
    "new_customer"
   ]
  },
  {
   "cell_type": "code",
   "execution_count": 155,
   "id": "8a46bad8",
   "metadata": {},
   "outputs": [
    {
     "data": {
      "text/plain": [
       "array([[1]])"
      ]
     },
     "execution_count": 155,
     "metadata": {},
     "output_type": "execute_result"
    }
   ],
   "source": [
    "# scaling the data on the new customer and predicting whether this individual paid back their loand or charged off\n",
    "new_customer = scaler.transform(new_customer.values.reshape(1,78))\n",
    "(model.predict(new_customer) > 0.5).astype('int32')"
   ]
  },
  {
   "cell_type": "code",
   "execution_count": 156,
   "id": "cb55c48e",
   "metadata": {},
   "outputs": [
    {
     "data": {
      "text/plain": [
       "1.0"
      ]
     },
     "execution_count": 156,
     "metadata": {},
     "output_type": "execute_result"
    }
   ],
   "source": [
    "# the model predicts that this person did repay their loan\n",
    "# look to see if they actually did repay their loan\n",
    "df.iloc[random_ind]['loan_repaid']"
   ]
  }
 ],
 "metadata": {
  "kernelspec": {
   "display_name": "Python 3 (ipykernel)",
   "language": "python",
   "name": "python3"
  },
  "language_info": {
   "codemirror_mode": {
    "name": "ipython",
    "version": 3
   },
   "file_extension": ".py",
   "mimetype": "text/x-python",
   "name": "python",
   "nbconvert_exporter": "python",
   "pygments_lexer": "ipython3",
   "version": "3.9.7"
  }
 },
 "nbformat": 4,
 "nbformat_minor": 5
}
